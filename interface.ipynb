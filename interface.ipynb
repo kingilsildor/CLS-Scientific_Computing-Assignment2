{
 "cells": [
  {
   "cell_type": "code",
   "execution_count": 1,
   "metadata": {},
   "outputs": [],
   "source": [
    "from IPython.display import HTML\n",
    "\n",
    "from modules.gray_scott import create_gif, simulate_gray_scott"
   ]
  },
  {
   "cell_type": "code",
   "execution_count": null,
   "metadata": {},
   "outputs": [
    {
     "name": "stderr",
     "output_type": "stream",
     "text": [
      "Gray-Scott simulation: 100%|██████████| 3000/3000 [00:11<00:00, 264.63it/s]\n"
     ]
    },
    {
     "data": {
      "text/html": [
       "<img src=\"results/gray_scott1.gif\">"
      ],
      "text/plain": [
       "<IPython.core.display.HTML object>"
      ]
     },
     "execution_count": 3,
     "metadata": {},
     "output_type": "execute_result"
    }
   ],
   "source": [
    "N = 100\n",
    "steps = 3_000\n",
    "\n",
    "Du = 0.16\n",
    "Dv = 0.08\n",
    "F = 0.035\n",
    "k = 0.06\n",
    "dx = 1\n",
    "dt = 1\n",
    "\n",
    "simulate_gray_scott(\n",
    "    N,\n",
    "    Du,\n",
    "    Dv,\n",
    "    F,\n",
    "    k,\n",
    "    dx,\n",
    "    dt,\n",
    "    steps,\n",
    "    chemical=\"v\",\n",
    "    boundary=\"neumann\",\n",
    "    info=True,\n",
    "    noise_u=True,\n",
    "    noise_v=False,\n",
    ")\n",
    "create_gif(\"results\", \"results/gray_scott1.gif\")\n",
    "HTML('<img src=\"results/gray_scott1.gif\">')"
   ]
  },
  {
   "cell_type": "code",
   "execution_count": null,
   "metadata": {},
   "outputs": [
    {
     "name": "stderr",
     "output_type": "stream",
     "text": [
      "Gray-Scott simulation: 100%|██████████| 3000/3000 [00:07<00:00, 391.21it/s]\n"
     ]
    },
    {
     "data": {
      "text/html": [
       "<img src=\"results/gray_scott2.gif\">"
      ],
      "text/plain": [
       "<IPython.core.display.HTML object>"
      ]
     },
     "execution_count": 3,
     "metadata": {},
     "output_type": "execute_result"
    }
   ],
   "source": [
    "simulate_gray_scott(\n",
    "    N,\n",
    "    Du,\n",
    "    Dv,\n",
    "    F,\n",
    "    k,\n",
    "    dx,\n",
    "    dt,\n",
    "    steps,\n",
    "    chemical=\"u\",\n",
    "    boundary=\"neumann\",\n",
    "    info=True,\n",
    "    noise=True,\n",
    ")\n",
    "create_gif(\"results\", \"results/gray_scott2.gif\")\n",
    "HTML('<img src=\"results/gray_scott2.gif\">')"
   ]
  },
  {
   "cell_type": "code",
   "execution_count": null,
   "metadata": {},
   "outputs": [
    {
     "name": "stderr",
     "output_type": "stream",
     "text": [
      "Gray-Scott simulation: 100%|██████████| 3000/3000 [00:08<00:00, 350.17it/s]\n"
     ]
    },
    {
     "data": {
      "text/html": [
       "<img src=\"results/gray_scott3.gif\">"
      ],
      "text/plain": [
       "<IPython.core.display.HTML object>"
      ]
     },
     "execution_count": 4,
     "metadata": {},
     "output_type": "execute_result"
    }
   ],
   "source": [
    "Du = 0.02\n",
    "Dv = 0.01\n",
    "F = 0.034\n",
    "k = 0.095\n",
    "dx = 0.1\n",
    "dt = 0.1\n",
    "\n",
    "simulate_gray_scott(\n",
    "    N, Du, Dv, F, k, dx, dt, steps, chemical=\"u\", boundary=\"neumann\", info=True\n",
    ")\n",
    "create_gif(\"results\", \"results/gray_scott3.gif\")\n",
    "HTML('<img src=\"results/gray_scott3.gif\">')"
   ]
  },
  {
   "cell_type": "code",
   "execution_count": null,
   "metadata": {},
   "outputs": [
    {
     "name": "stderr",
     "output_type": "stream",
     "text": [
      "Gray-Scott simulation: 100%|██████████| 3000/3000 [00:09<00:00, 333.07it/s]\n"
     ]
    },
    {
     "data": {
      "text/html": [
       "<img src=\"results/gray_scott4.gif\">"
      ],
      "text/plain": [
       "<IPython.core.display.HTML object>"
      ]
     },
     "execution_count": 5,
     "metadata": {},
     "output_type": "execute_result"
    }
   ],
   "source": [
    "Du = 0.01\n",
    "Dv = 0.005\n",
    "F = 0.04\n",
    "k = 0.06\n",
    "dx = 1\n",
    "dt = 0.1\n",
    "\n",
    "simulate_gray_scott(\n",
    "    N, Du, Dv, F, k, dx, dt, steps, chemical=\"u\", boundary=\"neumann\", info=True\n",
    ")\n",
    "create_gif(\"results\", \"results/gray_scott4.gif\")\n",
    "HTML('<img src=\"results/gray_scott4.gif\">')"
   ]
  },
  {
   "cell_type": "code",
   "execution_count": null,
   "metadata": {},
   "outputs": [],
   "source": []
  }
 ],
 "metadata": {
  "kernelspec": {
   "display_name": "scientific-comp",
   "language": "python",
   "name": "python3"
  },
  "language_info": {
   "codemirror_mode": {
    "name": "ipython",
    "version": 3
   },
   "file_extension": ".py",
   "mimetype": "text/x-python",
   "name": "python",
   "nbconvert_exporter": "python",
   "pygments_lexer": "ipython3",
   "version": "3.12.8"
  }
 },
 "nbformat": 4,
 "nbformat_minor": 2
}
