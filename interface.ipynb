{
 "cells": [
  {
   "cell_type": "code",
   "execution_count": 8,
   "metadata": {},
   "outputs": [],
   "source": [
    "import matplotlib.pyplot as plt\n",
    "import numpy as np\n",
    "import pandas as pd\n",
    "from IPython.display import HTML\n",
    "from joblib import Parallel, delayed\n",
    "from tqdm import tqdm\n",
    "\n",
    "from modules.config import DPI, FIG_SIZE"
   ]
  },
  {
   "cell_type": "code",
   "execution_count": null,
   "metadata": {},
   "outputs": [],
   "source": [
    "from modules.dla_algorithm import Diffusion, compare_omegas, plot_omega_comparison"
   ]
  },
  {
   "cell_type": "markdown",
   "metadata": {},
   "source": [
    "# Test various $\\eta$\n",
    "We test 3 values of $\\eta,0,1,2$ run $200$ growth iterations and the default value of $\\omega = 1.8$.\n",
    "\n",
    "We plot the resulting cluster and concentration of the grid cells.\n",
    "\n",
    "Disclamer: execution of the following cell takes around 6 minutes."
   ]
  },
  {
   "cell_type": "code",
   "execution_count": null,
   "metadata": {},
   "outputs": [],
   "source": [
    "grid_size = 100\n",
    "growth_iterations = 200\n",
    "\n",
    "\n",
    "def run_simulation_and_plot(eta):\n",
    "    \"\"\"Run a diffusion simulation and plot the results\"\"\"\n",
    "    diffusion = Diffusion(grid_size, eta, initial_point=\"bottom\")\n",
    "    diffusion.run_simulation(growth_iterations)\n",
    "    diffusion.plot(eta, save=True, filename=f\"results/diffusion_eta_{eta}_200.png\")\n",
    "\n",
    "\n",
    "etas = [0, 1, 2]\n",
    "_ = Parallel(n_jobs=-2)(delayed(run_simulation_and_plot)(eta) for eta in etas);"
   ]
  },
  {
   "cell_type": "markdown",
   "metadata": {},
   "source": [
    "## Find optimal value of $\\omega$\n",
    "Next, we try find the approximate optimal value of $\\omega$ for the three values of $\\eta = 0,1,2$.\n",
    "\n",
    "We start with initial guess of $\\omega = 1.4, 1.6, 1.8, 1.9$ and run $20$ simulations with $50$ growth iterations for each combination of $\\omega$ and $\\eta$.\n",
    "\n",
    "During each growth step, we solve the Lapsal equation using the **SOR** method and we check the number of iterations we had to do for **SOR** to converge. We then measure the performance of each $\\omega$ by checking the total number of iterations we had to do in SOR and plot the results.\n",
    "\n",
    "Disclamer: execution of each of the three following cells can take up to 30 minutes. Depending on the hardware.\n",
    "\n",
    "30 simulations 15 min "
   ]
  },
  {
   "cell_type": "code",
   "execution_count": null,
   "metadata": {},
   "outputs": [],
   "source": [
    "eta = 0\n",
    "omegas = [1.6, 1.7, 1.8, 1.85]\n",
    "num_simulations = 30\n",
    "\n",
    "results_omegas_eta_0 = compare_omegas(eta, omegas, num_simulations)\n",
    "plot_omega_comparison(\n",
    "    results_omegas_eta_0,\n",
    "    omegas,\n",
    "    eta,\n",
    "    save=True,\n",
    "    filename=\"results/omega_comparison_eta_0.png\",\n",
    ")\n"
   ]
  },
  {
   "cell_type": "code",
   "execution_count": null,
   "metadata": {},
   "outputs": [],
   "source": [
    "eta = 1\n",
    "omegas = [1.6, 1.7, 1.8, 1.85]\n",
    "num_simulations = 30\n",
    "\n",
    "results_omegas_eta_1 = compare_omegas(eta, omegas, num_simulations)\n",
    "plot_omega_comparison(\n",
    "    results_omegas_eta_1,\n",
    "    omegas,\n",
    "    eta,\n",
    "    save=True,\n",
    "    filename=\"results/omega_comparison_eta_1.png\",\n",
    ")"
   ]
  },
  {
   "cell_type": "code",
   "execution_count": null,
   "metadata": {},
   "outputs": [],
   "source": [
    "eta = 2\n",
    "omegas = [1.6, 1.7, 1.8, 1.85]\n",
    "num_simulations = 30\n",
    "\n",
    "results_omegas_eta_2 = compare_omegas(eta, omegas, num_simulations)\n",
    "plot_omega_comparison(\n",
    "    results_omegas_eta_2,\n",
    "    omegas,\n",
    "    eta,\n",
    "    save=True,\n",
    "    filename=\"results/omega_comparison_eta_2.png\",\n",
    ")"
   ]
  },
  {
   "cell_type": "code",
   "execution_count": null,
   "metadata": {},
   "outputs": [],
   "source": [
    "means_0 = np.mean(np.array(results_omegas_eta_0), axis=0)\n",
    "stds_0 = np.std(np.array(results_omegas_eta_0), axis=0)\n",
    "\n",
    "means_1 = np.mean(np.array(results_omegas_eta_1), axis=0)\n",
    "stds_1 = np.std(np.array(results_omegas_eta_1), axis=0)\n",
    "\n",
    "means_2 = np.mean(np.array(results_omegas_eta_2), axis=0)\n",
    "stds_2 = np.std(np.array(results_omegas_eta_2), axis=0)\n",
    "\n",
    "plt.figure(figsize=FIG_SIZE, dpi=DPI)\n",
    "plt.errorbar(omegas, means_0, yerr=stds_0, fmt=\"o-\", capsize=5, label=r\"$\\eta = 0$\")\n",
    "plt.errorbar(omegas, means_1, yerr=stds_1, fmt=\"o-\", capsize=5, label=r\"$\\eta = 1$\")\n",
    "plt.errorbar(omegas, means_2, yerr=stds_2, fmt=\"o-\", capsize=5, label=r\"$\\eta = 2$\")\n",
    "plt.xlabel(r\"$\\omega$\")\n",
    "plt.ylabel(\"# SOR Iterations\")\n",
    "plt.title(r\"# iterations needed in SOR vs $\\omega$ for 100x100 grid and 50 grow steps\")\n",
    "plt.legend()\n",
    "plt.grid(True)\n",
    "plt.savefig(\"results/omega_vs_sor_mean.png\", dpi=300, bbox_inches=\"tight\")\n",
    "plt.show()"
   ]
  },
  {
   "cell_type": "markdown",
   "metadata": {},
   "source": [
    "## Analysing the cluster shape\n",
    "Lastly, we analyse the shape of the cluster so that we can compare it to the Monte Carlo simulation.\n",
    "\n",
    "Again, for three values of $\\eta=0,1,2$\n",
    "and $200$ growth steps, we run $20$ simulations each and measure the size of the perimeter and the width and height of the cluster. We then plot our results. We use the optimal for each\n",
    "\n",
    "found in the previous part.\n",
    "\n",
    "Disclamer: execution of each of the three following cells can take up to 20 mins"
   ]
  },
  {
   "cell_type": "code",
   "execution_count": null,
   "metadata": {},
   "outputs": [],
   "source": [
    "grid_size = 100\n",
    "growth_iterations = 200\n",
    "num_simulations = 20\n",
    "\n",
    "\n",
    "def run_simulation_and_measure(eta, omega):\n",
    "    diffusion = Diffusion(grid_size, eta, initial_point=\"bottom\")\n",
    "    diffusion.run_simulation(growth_iterations, omega)\n",
    "\n",
    "    return [\n",
    "        diffusion.get_perimeter_size(),\n",
    "        diffusion.get_width(),\n",
    "        diffusion.get_height(),\n",
    "    ]"
   ]
  },
  {
   "cell_type": "code",
   "execution_count": null,
   "metadata": {},
   "outputs": [],
   "source": [
    "eta = 0\n",
    "omega = 1.65\n",
    "\n",
    "clusters_eta_0 = Parallel(n_jobs=-2)(\n",
    "    delayed(run_simulation_and_measure)(eta, omega) for _ in range(num_simulations)\n",
    ")\n",
    "\n",
    "clusters_eta_0 = np.array(clusters_eta_0)\n",
    "\n",
    "print(\n",
    "    f\"The average perimeter size for cluster size {growth_iterations} and η = {eta} is {np.mean([cluster[0] for cluster in clusters_eta_0])}\"\n",
    ")\n",
    "print(\n",
    "    f\"The average width for cluster size {growth_iterations} and η = {eta} is {np.mean([cluster[1] for cluster in clusters_eta_0])}\"\n",
    ")\n",
    "print(\n",
    "    f\"The average height for cluster size {growth_iterations} and η = {eta} is {np.mean([cluster[2] for cluster in clusters_eta_0])}\"\n",
    ")\n"
   ]
  },
  {
   "cell_type": "code",
   "execution_count": null,
   "metadata": {},
   "outputs": [],
   "source": [
    "eta = 1\n",
    "omega = 1.8\n",
    "\n",
    "clusters_eta_1 = Parallel(n_jobs=-2)(\n",
    "    delayed(run_simulation_and_measure)(eta, omega) for _ in range(num_simulations)\n",
    ")\n",
    "\n",
    "clusters_eta_1 = np.array(clusters_eta_1)\n",
    "\n",
    "print(\n",
    "    f\"The average perimeter size for cluster size {growth_iterations} and η = {eta} is {np.mean([cluster[0] for cluster in clusters_eta_1])}\"\n",
    ")\n",
    "print(\n",
    "    f\"The average width for cluster size {growth_iterations} and η = {eta} is {np.mean([cluster[1] for cluster in clusters_eta_1])}\"\n",
    ")\n",
    "print(\n",
    "    f\"The average height for cluster size {growth_iterations} and η = {eta} is {np.mean([cluster[2] for cluster in clusters_eta_1])}\"\n",
    ")\n"
   ]
  },
  {
   "cell_type": "code",
   "execution_count": null,
   "metadata": {},
   "outputs": [],
   "source": [
    "eta = 2\n",
    "omega = 1.85\n",
    "\n",
    "clusters_eta_2 = Parallel(n_jobs=-2)(\n",
    "    delayed(run_simulation_and_measure)(eta, omega) for _ in range(num_simulations)\n",
    ")\n",
    "\n",
    "clusters_eta_2 = np.array(clusters_eta_2)\n",
    "\n",
    "print(\n",
    "    f\"The average perimeter size for cluster size {growth_iterations} and η = {eta} is {np.mean([cluster[0] for cluster in clusters_eta_2])}\"\n",
    ")\n",
    "print(\n",
    "    f\"The average width for cluster size {growth_iterations} and η = {eta} is {np.mean([cluster[1] for cluster in clusters_eta_2])}\"\n",
    ")\n",
    "print(\n",
    "    f\"The average height for cluster size {growth_iterations} and η = {eta} is {np.mean([cluster[2] for cluster in clusters_eta_2])}\"\n",
    ")\n"
   ]
  },
  {
   "cell_type": "markdown",
   "metadata": {},
   "source": [
    "## Monte-Carlo Random Walker\n",
    "\n",
    "For the Monte Carlo Random Walker system, we will be testing under the same conditions ast the DLA, where possible. The one parameter which can be varied, namely $p_{stick}$, will be tested for [0.25, 0.5, 0.75, 1]. Similarly, we will be investigating the height, width, and perimeter of the resulting clusters. \n",
    "\n",
    "Disclaimer: generating the results may take up to 1 hour. "
   ]
  },
  {
   "cell_type": "code",
   "execution_count": null,
   "metadata": {},
   "outputs": [],
   "source": [
    "from modules.random_walk_monte_carlo import RandomWalker"
   ]
  },
  {
   "cell_type": "code",
   "execution_count": null,
   "metadata": {},
   "outputs": [],
   "source": [
    "grid_size = 100\n",
    "steps = 10000000\n",
    "num_simulations = 20\n",
    "p_stick_values = [0.25, 0.5, 0.75, 1]\n",
    "\n",
    "\n",
    "def run_single_simulation(p_stick, steps, grid_size):\n",
    "    simulation = RandomWalker(N=grid_size, p_stick=p_stick, initial_point=\"bottom\")\n",
    "    simulation.run_simulation(steps)\n",
    "    return (\n",
    "        simulation,\n",
    "        len(simulation.cluster),\n",
    "        simulation.get_perimeter_size(),\n",
    "        simulation.get_width(),\n",
    "        simulation.get_height(),\n",
    "    )\n",
    "\n",
    "\n",
    "results = []\n",
    "final_simulations = {}\n",
    "\n",
    "for p_stick in p_stick_values:\n",
    "    cluster_sizes, perimeter_sizes, widths, heights = [], [], [], []\n",
    "\n",
    "    for _ in tqdm(\n",
    "        range(num_simulations), desc=f\"Running p_stick={p_stick}\", leave=True\n",
    "    ):\n",
    "        simulation, cluster_size, perimeter_size, width, height = run_single_simulation(\n",
    "            p_stick, steps, grid_size\n",
    "        )\n",
    "\n",
    "        cluster_sizes.append(cluster_size)\n",
    "        perimeter_sizes.append(perimeter_size)\n",
    "        widths.append(width)\n",
    "        heights.append(height)\n",
    "\n",
    "    final_simulations[p_stick] = simulation\n",
    "\n",
    "    results.append(\n",
    "        {\n",
    "            \"p_stick\": p_stick,\n",
    "            \"mean_cluster_size\": np.mean(cluster_sizes),\n",
    "            \"std_cluster_size\": np.std(cluster_sizes),\n",
    "            \"mean_perimeter_size\": np.mean(perimeter_sizes),\n",
    "            \"std_perimeter_size\": np.std(perimeter_sizes),\n",
    "            \"mean_width\": np.mean(widths),\n",
    "            \"std_width\": np.std(widths),\n",
    "            \"mean_height\": np.mean(heights),\n",
    "            \"std_height\": np.std(heights),\n",
    "        }\n",
    "    )\n",
    "\n",
    "df = pd.DataFrame(results)\n",
    "df.to_csv(\"data/random_walk_results.csv\", index=False)"
   ]
  },
  {
   "cell_type": "code",
   "execution_count": null,
   "metadata": {},
   "outputs": [],
   "source": [
    "for p_stick, simulation in final_simulations.items():\n",
    "    fig, ax = plt.subplots(figsize=(6, 6))\n",
    "\n",
    "    fixed_grid = np.where(simulation.grid == -1, 1, simulation.grid)\n",
    "\n",
    "    norm_grid = (fixed_grid - np.min(fixed_grid)) / (\n",
    "        np.max(fixed_grid) - np.min(fixed_grid)\n",
    "    )\n",
    "\n",
    "    im = ax.imshow(norm_grid, cmap=\"Blues\", alpha=0.8)\n",
    "\n",
    "    gradient = np.linspace(0, 1, simulation.grid.shape[0])[:, None]  # Vertical gradient\n",
    "    ax.imshow(gradient, cmap=\"Blues\", alpha=0.3)\n",
    "\n",
    "    x_points = [coords[1] for coords in simulation.cluster]\n",
    "    y_points = [coords[0] for coords in simulation.cluster]\n",
    "    ax.scatter(x_points, y_points, color=\"black\", s=3)\n",
    "    ax.set_title(r\"Random Walker grid with $P_{stick} = $\" + f\"{p_stick}\")\n",
    "\n",
    "    plt.colorbar(im)\n",
    "    plt.savefig(f\"results/cluster_pstick_{p_stick}.png\", dpi=300, bbox_inches=\"tight\")\n",
    "    plt.show()"
   ]
  },
  {
   "cell_type": "code",
   "execution_count": null,
   "metadata": {},
   "outputs": [],
   "source": [
    "p_stick_values = df[\"p_stick\"].values\n",
    "\n",
    "\n",
    "mean_cluster_sizes = df[\"mean_cluster_size\"].values\n",
    "std_cluster_sizes = df[\"std_cluster_size\"].values\n",
    "\n",
    "mean_perimeter_sizes = df[\"mean_perimeter_size\"].values\n",
    "std_perimeter_sizes = df[\"std_perimeter_size\"].values\n",
    "\n",
    "mean_widths = df[\"mean_width\"].values\n",
    "std_widths = df[\"std_width\"].values\n",
    "\n",
    "mean_heights = df[\"mean_height\"].values\n",
    "std_heights = df[\"std_height\"].values\n",
    "\n",
    "\n",
    "plt.figure(figsize=FIG_SIZE, dpi=DPI)\n",
    "plt.errorbar(\n",
    "    p_stick_values,\n",
    "    mean_perimeter_sizes,\n",
    "    yerr=std_perimeter_sizes,\n",
    "    fmt=\"s-\",\n",
    "    capsize=5,\n",
    "    label=r\"Perimeter Size\",\n",
    "    color=\"orange\",\n",
    ")\n",
    "plt.errorbar(\n",
    "    p_stick_values,\n",
    "    mean_widths,\n",
    "    yerr=std_widths,\n",
    "    fmt=\"^-\",\n",
    "    capsize=5,\n",
    "    label=r\"Width\",\n",
    "    color=\"green\",\n",
    ")\n",
    "plt.errorbar(\n",
    "    p_stick_values,\n",
    "    mean_heights,\n",
    "    yerr=std_heights,\n",
    "    fmt=\"v-\",\n",
    "    capsize=5,\n",
    "    label=r\"Height\",\n",
    "    color=\"red\",\n",
    ")\n",
    "\n",
    "plt.xlabel(r\"$P_{stick}$\")\n",
    "plt.ylabel(\"Simulation Metrics\")\n",
    "plt.title(r\"Comparison of Cluster Metrics vs $P_{stick}$ for 100x100 Grid\")\n",
    "plt.legend()\n",
    "plt.grid(True)\n",
    "plt.savefig(\"results/RW_cluster_metrics.png\", dpi=300, bbox_inches=\"tight\")\n",
    "\n",
    "plt.show()"
   ]
  },
  {
   "cell_type": "markdown",
   "metadata": {},
   "source": [
    "-------\n",
    "# Chemical Reaction Diffusion"
   ]
  },
  {
   "cell_type": "code",
   "execution_count": 19,
   "metadata": {},
   "outputs": [],
   "source": [
    "from modules.gray_scott import create_gif, delete_images, simulate_gray_scott"
   ]
  },
  {
   "cell_type": "code",
   "execution_count": 20,
   "metadata": {},
   "outputs": [],
   "source": [
    "N = 100\n",
    "steps = 5_000\n",
    "dx = 1\n",
    "dt = 1\n",
    "\n",
    "reaction_diffusion_params = {\n",
    "    \"snowflake\": {\"Du\": 0.16, \"Dv\": 0.08, \"F\": 0.035, \"k\": 0.06},\n",
    "    \"spots\": {\"Du\": 0.1, \"Dv\": 0.05, \"F\": 0.035, \"k\": 0.065},\n",
    "    \"star\": {\"Du\": 0.16, \"Dv\": 0.08, \"F\": 0.022, \"k\": 0.051},\n",
    "    \"wave\": {\"Du\": 0.12, \"Dv\": 0.08, \"F\": 0.018, \"k\": 0.051},\n",
    "}\n",
    "categories = list(reaction_diffusion_params.keys())\n",
    "\n",
    "delete_images(\"results\")"
   ]
  },
  {
   "cell_type": "code",
   "execution_count": 21,
   "metadata": {},
   "outputs": [
    {
     "name": "stderr",
     "output_type": "stream",
     "text": [
      "Gray-Scott simulation: 100%|██████████| 5000/5000 [01:28<00:00, 56.60it/s]\n"
     ]
    },
    {
     "name": "stdout",
     "output_type": "stream",
     "text": [
      "Deleted 50 images from results\n"
     ]
    },
    {
     "name": "stderr",
     "output_type": "stream",
     "text": [
      "Gray-Scott simulation: 100%|██████████| 5000/5000 [01:04<00:00, 77.73it/s] \n"
     ]
    },
    {
     "name": "stdout",
     "output_type": "stream",
     "text": [
      "Deleted 50 images from results\n"
     ]
    },
    {
     "name": "stderr",
     "output_type": "stream",
     "text": [
      "Gray-Scott simulation: 100%|██████████| 5000/5000 [01:05<00:00, 76.48it/s] \n"
     ]
    },
    {
     "name": "stdout",
     "output_type": "stream",
     "text": [
      "Deleted 50 images from results\n"
     ]
    },
    {
     "name": "stderr",
     "output_type": "stream",
     "text": [
      "Gray-Scott simulation: 100%|██████████| 5000/5000 [00:46<00:00, 107.37it/s]\n"
     ]
    },
    {
     "name": "stdout",
     "output_type": "stream",
     "text": [
      "Deleted 50 images from results\n"
     ]
    }
   ],
   "source": [
    "for category, params in reaction_diffusion_params.items():\n",
    "    Du = params[\"Du\"]\n",
    "    Dv = params[\"Dv\"]\n",
    "    F = params[\"F\"]\n",
    "    k = params[\"k\"]\n",
    "    simulate_gray_scott(\n",
    "        N,\n",
    "        Du,\n",
    "        Dv,\n",
    "        F,\n",
    "        k,\n",
    "        dx,\n",
    "        dt,\n",
    "        steps,\n",
    "        chemical=\"v\",\n",
    "        boundary=\"neumann\",\n",
    "        info=False,\n",
    "        noise_u=False,\n",
    "        noise_v=False,\n",
    "    )\n",
    "    gif_name = f\"results/gray_scott_{category}.gif\"\n",
    "    create_gif(\"results\", gif_name)\n",
    "    delete_images(\"results\")"
   ]
  },
  {
   "cell_type": "code",
   "execution_count": 22,
   "metadata": {},
   "outputs": [
    {
     "data": {
      "text/html": [
       "<img src=\"results/gray_scott_snowflake.gif\">"
      ],
      "text/plain": [
       "<IPython.core.display.HTML object>"
      ]
     },
     "execution_count": 22,
     "metadata": {},
     "output_type": "execute_result"
    }
   ],
   "source": [
    "HTML(f'<img src=\"results/gray_scott_{categories[0]}.gif\">')"
   ]
  },
  {
   "cell_type": "code",
   "execution_count": 23,
   "metadata": {},
   "outputs": [
    {
     "data": {
      "text/html": [
       "<img src=\"results/gray_scott_spots.gif\">"
      ],
      "text/plain": [
       "<IPython.core.display.HTML object>"
      ]
     },
     "execution_count": 23,
     "metadata": {},
     "output_type": "execute_result"
    }
   ],
   "source": [
    "HTML(f'<img src=\"results/gray_scott_{categories[1]}.gif\">')"
   ]
  },
  {
   "cell_type": "code",
   "execution_count": 24,
   "metadata": {},
   "outputs": [
    {
     "data": {
      "text/html": [
       "<img src=\"results/gray_scott_star.gif\">"
      ],
      "text/plain": [
       "<IPython.core.display.HTML object>"
      ]
     },
     "execution_count": 24,
     "metadata": {},
     "output_type": "execute_result"
    }
   ],
   "source": [
    "HTML(f'<img src=\"results/gray_scott_{categories[2]}.gif\">')"
   ]
  },
  {
   "cell_type": "code",
   "execution_count": 25,
   "metadata": {},
   "outputs": [
    {
     "data": {
      "text/html": [
       "<img src=\"results/gray_scott_wave.gif\">"
      ],
      "text/plain": [
       "<IPython.core.display.HTML object>"
      ]
     },
     "execution_count": 25,
     "metadata": {},
     "output_type": "execute_result"
    }
   ],
   "source": [
    "HTML(f'<img src=\"results/gray_scott_{categories[3]}.gif\">')"
   ]
  }
 ],
 "metadata": {
  "kernelspec": {
   "display_name": "scicomp",
   "language": "python",
   "name": "python3"
  },
  "language_info": {
   "codemirror_mode": {
    "name": "ipython",
    "version": 3
   },
   "file_extension": ".py",
   "mimetype": "text/x-python",
   "name": "python",
   "nbconvert_exporter": "python",
   "pygments_lexer": "ipython3",
   "version": "3.12.8"
  }
 },
 "nbformat": 4,
 "nbformat_minor": 2
}
