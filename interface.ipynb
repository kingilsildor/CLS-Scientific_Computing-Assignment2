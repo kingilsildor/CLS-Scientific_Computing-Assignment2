{
 "cells": [
  {
   "cell_type": "code",
   "execution_count": null,
   "metadata": {},
   "outputs": [],
   "source": [
    "from modules.DLA_model import Diffusion, compare_omegas, plot_omega_comparison\n",
    "from joblib import Parallel, delayed\n",
    "import numpy as np"
   ]
  },
  {
   "cell_type": "markdown",
   "metadata": {},
   "source": [
    "## Test various $\\eta$\n",
    "\n",
    "We test 3 values of $\\eta$, $0, 1, 2$, run $200$ growth iterations and the default value of $\\omega = 1.8$.\n",
    "\n",
    "We plot the resulting cluster and concentration of the grid cells.\n",
    "\n",
    "Disclamer: execution of the following cell takes around 6 minutes."
   ]
  },
  {
   "cell_type": "code",
   "execution_count": null,
   "metadata": {},
   "outputs": [],
   "source": [
    "grid_size = 100\n",
    "growth_iterations = 200\n",
    "\n",
    "def run_simulation_and_plot(eta):\n",
    "    diffusion = Diffusion(grid_size, eta, initial_point=\"bottom\")\n",
    "    diffusion.run_simulation(growth_iterations)\n",
    "    diffusion.plot(eta, save=True, filename=f\"diffusion_eta_{eta}_200.png\")\n",
    "\n",
    "_ = Parallel(n_jobs=-2)(\n",
    "        delayed(run_simulation_and_plot)(eta) for eta in [0, 1, 2]\n",
    "    )"
   ]
  },
  {
   "cell_type": "markdown",
   "metadata": {},
   "source": [
    "## Find optimal value of $\\omega$\n",
    "\n",
    "Next, we try to find the approximate optimal value of $\\omega$ for the three values of $\\eta = 0, 1, 2$.\n",
    "\n",
    "We start with initial guess of $\\omega = 1.4, 1.6, 1.8, 1.9$ and run $20$ simulations with $50$ growth iterations for each combination of $\\omega$ and $\\eta$.\n",
    "\n",
    "During each growth step, we solve the Lapsal equation using the SOR method and we check the number of iterations we had to do for SOR to converge. We then measure the performance of each $\\omega$ by checking the total number of iterations we had to do in SOR and plot the results.\n",
    "\n",
    "Disclamer: execution of each of the three following cells can take up to 30 minutes.\n",
    "\n",
    "\n",
    "30 simulations\n",
    "15 min"
   ]
  },
  {
   "cell_type": "code",
   "execution_count": null,
   "metadata": {},
   "outputs": [],
   "source": [
    "eta = 0\n",
    "omegas = [1.6, 1.7, 1.8, 1.85]\n",
    "num_simulations = 30\n",
    "\n",
    "results_omegas_eta_0 = compare_omegas(eta, omegas, num_simulations)\n",
    "plot_omega_comparison(results_omegas_eta_0, omegas, eta, save=True, filename=\"omega_comparison_eta_0.png\")"
   ]
  },
  {
   "cell_type": "code",
   "execution_count": null,
   "metadata": {},
   "outputs": [],
   "source": [
    "eta = 1\n",
    "omegas = [1.6, 1.7, 1.8, 1.85]\n",
    "num_simulations = 30\n",
    "\n",
    "results_omegas_eta_1 = compare_omegas(eta, omegas, num_simulations)\n",
    "plot_omega_comparison(results_omegas_eta_1, omegas, eta, save=True, filename=\"omega_comparison_eta_1.png\")"
   ]
  },
  {
   "cell_type": "code",
   "execution_count": null,
   "metadata": {},
   "outputs": [],
   "source": [
    "eta = 2\n",
    "omegas = [1.6, 1.7, 1.8, 1.85]\n",
    "num_simulations = 30\n",
    "\n",
    "results_omegas_eta_2 = compare_omegas(eta, omegas, num_simulations)\n",
    "plot_omega_comparison(results_omegas_eta_2, omegas, eta, save=True, filename=\"omega_comparison_eta_2.png\")"
   ]
  },
  {
   "cell_type": "code",
   "execution_count": null,
   "metadata": {},
   "outputs": [],
   "source": [
    "import matplotlib.pyplot as plt\n",
    "\n",
    "means_0 = np.mean(np.array(results_omegas_eta_0), axis=0)\n",
    "stds_0 = np.std(np.array(results_omegas_eta_0), axis=0)\n",
    "\n",
    "means_1 = np.mean(np.array(results_omegas_eta_1), axis=0)\n",
    "stds_1 = np.std(np.array(results_omegas_eta_1), axis=0)\n",
    "\n",
    "means_2 = np.mean(np.array(results_omegas_eta_2), axis=0)\n",
    "stds_2 = np.std(np.array(results_omegas_eta_2), axis=0)\n",
    "\n",
    "plt.figure(figsize=(8, 5))\n",
    "plt.errorbar(omegas, means_0, yerr=stds_0, fmt='o-', capsize=5, label=r'$\\eta = 0$')\n",
    "plt.errorbar(omegas, means_1, yerr=stds_1, fmt='o-', capsize=5, label=r'$\\eta = 1$')\n",
    "plt.errorbar(omegas, means_2, yerr=stds_2, fmt='o-', capsize=5, label=r'$\\eta = 2$')\n",
    "plt.xlabel(r'$\\omega$')\n",
    "plt.ylabel('# SOR Iterations')\n",
    "plt.title(r'# iterations needed in SOR vs $\\omega$ for 100x100 grid and 50 grow steps')\n",
    "plt.legend()\n",
    "plt.grid(True)\n",
    "# plt.savefig(\"omega_vs_sor_mean.png\", dpi=300, bbox_inches='tight')\n",
    "plt.show()"
   ]
  },
  {
   "cell_type": "markdown",
   "metadata": {},
   "source": [
    "## Analysing the cluster shape\n",
    "\n",
    "Lastly, we analyse the shape of the cluster so that we can compare it to the Monte Carlo simulation. \n",
    "\n",
    "Again, for three values of $\\eta = 0, 1, 2$ and $200$ growth steps, we run $20$ simulations each and measure the size of the perimeter and the width and height of the cluster. We then plot our results. We use the optimal $\\omega$ for each $\\eta$ found in the previous part.\n",
    "\n",
    "Disclamer: execution of each of the three following cells can take up to 20 mins"
   ]
  },
  {
   "cell_type": "code",
   "execution_count": null,
   "metadata": {},
   "outputs": [],
   "source": [
    "grid_size = 100\n",
    "growth_iterations = 200\n",
    "num_simulations = 20\n",
    "\n",
    "def run_simulation_and_measure(eta, omega):\n",
    "    diffusion = Diffusion(grid_size, eta, initial_point=\"bottom\")\n",
    "    diffusion.run_simulation(growth_iterations, omega)\n",
    "\n",
    "    return [diffusion.get_perimeter_size(), diffusion.get_width(), diffusion.get_height()]"
   ]
  },
  {
   "cell_type": "code",
   "execution_count": null,
   "metadata": {},
   "outputs": [],
   "source": [
    "eta = 0\n",
    "omega = 1.65\n",
    "\n",
    "clusters_eta_0 = Parallel(n_jobs=-2)(\n",
    "        delayed(run_simulation_and_measure)(eta, omega) for _ in range(num_simulations)\n",
    "    )\n",
    "\n",
    "clusters_eta_0 = np.array(clusters_eta_0)\n",
    "\n",
    "print(f\"The average perimeter size for cluster size {growth_iterations} and η = {eta} is {np.mean([cluster[0] for cluster in clusters_eta_0])}\")\n",
    "print(f\"The average width for cluster size {growth_iterations} and η = {eta} is {np.mean([cluster[1] for cluster in clusters_eta_0])}\")\n",
    "print(f\"The average height for cluster size {growth_iterations} and η = {eta} is {np.mean([cluster[2] for cluster in clusters_eta_0])}\")"
   ]
  },
  {
   "cell_type": "code",
   "execution_count": null,
   "metadata": {},
   "outputs": [],
   "source": [
    "eta = 1\n",
    "omega = 1.8\n",
    "\n",
    "clusters_eta_1 = Parallel(n_jobs=-2)(\n",
    "        delayed(run_simulation_and_measure)(eta, omega) for _ in range(num_simulations)\n",
    "    )\n",
    "\n",
    "clusters_eta_1 = np.array(clusters_eta_1)\n",
    "\n",
    "print(f\"The average perimeter size for cluster size {growth_iterations} and η = {eta} is {np.mean([cluster[0] for cluster in clusters_eta_1])}\")\n",
    "print(f\"The average width for cluster size {growth_iterations} and η = {eta} is {np.mean([cluster[1] for cluster in clusters_eta_1])}\")\n",
    "print(f\"The average height for cluster size {growth_iterations} and η = {eta} is {np.mean([cluster[2] for cluster in clusters_eta_1])}\")"
   ]
  },
  {
   "cell_type": "code",
   "execution_count": null,
   "metadata": {},
   "outputs": [],
   "source": [
    "eta = 2\n",
    "omega = 1.85\n",
    "\n",
    "clusters_eta_2 = Parallel(n_jobs=-2)(\n",
    "        delayed(run_simulation_and_measure)(eta, omega) for _ in range(num_simulations)\n",
    "    )\n",
    "\n",
    "clusters_eta_2 = np.array(clusters_eta_2)\n",
    "\n",
    "print(f\"The average perimeter size for cluster size {growth_iterations} and η = {eta} is {np.mean([cluster[0] for cluster in clusters_eta_2])}\")\n",
    "print(f\"The average width for cluster size {growth_iterations} and η = {eta} is {np.mean([cluster[1] for cluster in clusters_eta_2])}\")\n",
    "print(f\"The average height for cluster size {growth_iterations} and η = {eta} is {np.mean([cluster[2] for cluster in clusters_eta_2])}\")"
   ]
  }
 ],
 "metadata": {
  "kernelspec": {
   "display_name": "base",
   "language": "python",
   "name": "python3"
  },
  "language_info": {
   "codemirror_mode": {
    "name": "ipython",
    "version": 3
   },
   "file_extension": ".py",
   "mimetype": "text/x-python",
   "name": "python",
   "nbconvert_exporter": "python",
   "pygments_lexer": "ipython3",
   "version": "3.12.7"
  }
 },
 "nbformat": 4,
 "nbformat_minor": 2
}
