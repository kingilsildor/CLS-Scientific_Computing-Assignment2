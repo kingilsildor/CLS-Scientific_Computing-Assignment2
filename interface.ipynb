{
 "cells": [
  {
   "cell_type": "code",
   "execution_count": 1,
   "metadata": {},
   "outputs": [],
   "source": [
    "import matplotlib.pyplot as plt\n",
    "import numpy as np\n",
    "from IPython.display import HTML\n",
    "from joblib import Parallel, delayed\n",
    "\n",
    "from modules.config import DPI, FIG_SIZE"
   ]
  },
  {
   "cell_type": "code",
   "execution_count": 2,
   "metadata": {},
   "outputs": [],
   "source": [
    "from modules.dla_algorithm import Diffusion, compare_omegas, plot_omega_comparison"
   ]
  },
  {
   "cell_type": "markdown",
   "metadata": {},
   "source": [
    "# Test various $\\eta$\n",
    "We test 3 values of $\\eta,0,1,2$ run $200$ growth iterations and the default value of $\\omega = 1.8$.\n",
    "\n",
    "We plot the resulting cluster and concentration of the grid cells.\n",
    "\n",
    "Disclamer: execution of the following cell takes around 6 minutes."
   ]
  },
  {
   "cell_type": "code",
   "execution_count": null,
   "metadata": {},
   "outputs": [],
   "source": [
    "grid_size = 100\n",
    "growth_iterations = 200\n",
    "\n",
    "\n",
    "def run_simulation_and_plot(eta):\n",
    "    \"\"\"Run a diffusion simulation and plot the results\"\"\"\n",
    "    diffusion = Diffusion(grid_size, eta, initial_point=\"bottom\")\n",
    "    diffusion.run_simulation(growth_iterations)\n",
    "    diffusion.plot(eta, save=True, filename=f\"results/diffusion_eta_{eta}_200.png\")\n",
    "\n",
    "\n",
    "etas = [0, 1, 2]\n",
    "_ = Parallel(n_jobs=-2)(delayed(run_simulation_and_plot)(eta) for eta in etas);"
   ]
  },
  {
   "cell_type": "markdown",
   "metadata": {},
   "source": [
    "## Find optimal value of $\\omega$\n",
    "Next, we try find the approximate optimal value of $\\omega$ for the three values of $\\eta = 0,1,2$.\n",
    "\n",
    "We start with initial guess of $\\omega = 1.4, 1.6, 1.8, 1.9$ and run $20$ simulations with $50$ growth iterations for each combination of $\\omega$ and $\\eta$.\n",
    "\n",
    "During each growth step, we solve the Lapsal equation using the **SOR** method and we check the number of iterations we had to do for **SOR** to converge. We then measure the performance of each $\\omega$ by checking the total number of iterations we had to do in SOR and plot the results.\n",
    "\n",
    "Disclamer: execution of each of the three following cells can take up to 30 minutes. Depending on the hardware.\n",
    "\n",
    "30 simulations 15 min "
   ]
  },
  {
   "cell_type": "code",
   "execution_count": 3,
   "metadata": {},
   "outputs": [
    {
     "data": {
      "image/png": "[encoded data removed]",
      "text/plain": [
       "<Figure size 800x600 with 1 Axes>"
      ]
     },
     "metadata": {},
     "output_type": "display_data"
    }
   ],
   "source": [
    "eta = 0\n",
    "omegas = [1.6, 1.7, 1.8, 1.85]\n",
    "num_simulations = 30\n",
    "\n",
    "results_omegas_eta_0 = compare_omegas(eta, omegas, num_simulations)\n",
    "plot_omega_comparison(\n",
    "    results_omegas_eta_0,\n",
    "    omegas,\n",
    "    eta,\n",
    "    save=True,\n",
    "    filename=\"results/omega_comparison_eta_0.png\",\n",
    ")\n"
   ]
  },
  {
   "cell_type": "code",
   "execution_count": null,
   "metadata": {},
   "outputs": [],
   "source": [
    "eta = 1\n",
    "omegas = [1.6, 1.7, 1.8, 1.85]\n",
    "num_simulations = 30\n",
    "\n",
    "results_omegas_eta_1 = compare_omegas(eta, omegas, num_simulations)\n",
    "plot_omega_comparison(\n",
    "    results_omegas_eta_1,\n",
    "    omegas,\n",
    "    eta,\n",
    "    save=True,\n",
    "    filename=\"results/omega_comparison_eta_1.png\",\n",
    ")"
   ]
  },
  {
   "cell_type": "code",
   "execution_count": null,
   "metadata": {},
   "outputs": [],
   "source": [
    "eta = 2\n",
    "omegas = [1.6, 1.7, 1.8, 1.85]\n",
    "num_simulations = 30\n",
    "\n",
    "results_omegas_eta_2 = compare_omegas(eta, omegas, num_simulations)\n",
    "plot_omega_comparison(\n",
    "    results_omegas_eta_2,\n",
    "    omegas,\n",
    "    eta,\n",
    "    save=True,\n",
    "    filename=\"results/omega_comparison_eta_2.png\",\n",
    ")"
   ]
  },
  {
   "cell_type": "code",
   "execution_count": null,
   "metadata": {},
   "outputs": [],
   "source": [
    "means_0 = np.mean(np.array(results_omegas_eta_0), axis=0)\n",
    "stds_0 = np.std(np.array(results_omegas_eta_0), axis=0)\n",
    "\n",
    "means_1 = np.mean(np.array(results_omegas_eta_1), axis=0)\n",
    "stds_1 = np.std(np.array(results_omegas_eta_1), axis=0)\n",
    "\n",
    "means_2 = np.mean(np.array(results_omegas_eta_2), axis=0)\n",
    "stds_2 = np.std(np.array(results_omegas_eta_2), axis=0)\n",
    "\n",
    "plt.figure(figsize=FIG_SIZE, dpi=DPI)\n",
    "plt.errorbar(omegas, means_0, yerr=stds_0, fmt=\"o-\", capsize=5, label=r\"$\\eta = 0$\")\n",
    "plt.errorbar(omegas, means_1, yerr=stds_1, fmt=\"o-\", capsize=5, label=r\"$\\eta = 1$\")\n",
    "plt.errorbar(omegas, means_2, yerr=stds_2, fmt=\"o-\", capsize=5, label=r\"$\\eta = 2$\")\n",
    "plt.xlabel(r\"$\\omega$\")\n",
    "plt.ylabel(\"# SOR Iterations\")\n",
    "plt.title(r\"# iterations needed in SOR vs $\\omega$ for 100x100 grid and 50 grow steps\")\n",
    "plt.legend()\n",
    "plt.grid(True)\n",
    "plt.savefig(\"results/omega_vs_sor_mean.png\", dpi=300, bbox_inches=\"tight\")\n",
    "plt.show()"
   ]
  },
  {
   "cell_type": "markdown",
   "metadata": {},
   "source": [
    "## Analysing the cluster shape\n",
    "Lastly, we analyse the shape of the cluster so that we can compare it to the Monte Carlo simulation.\n",
    "\n",
    "Again, for three values of $\\eta=0,1,2$\n",
    "and $200$ growth steps, we run $20$ simulations each and measure the size of the perimeter and the width and height of the cluster. We then plot our results. We use the optimal for each\n",
    "\n",
    "found in the previous part.\n",
    "\n",
    "Disclamer: execution of each of the three following cells can take up to 20 mins"
   ]
  },
  {
   "cell_type": "code",
   "execution_count": null,
   "metadata": {},
   "outputs": [],
   "source": [
    "grid_size = 100\n",
    "growth_iterations = 200\n",
    "num_simulations = 20\n",
    "\n",
    "\n",
    "def run_simulation_and_measure(eta, omega):\n",
    "    diffusion = Diffusion(grid_size, eta, initial_point=\"bottom\")\n",
    "    diffusion.run_simulation(growth_iterations, omega)\n",
    "\n",
    "    return [\n",
    "        diffusion.get_perimeter_size(),\n",
    "        diffusion.get_width(),\n",
    "        diffusion.get_height(),\n",
    "    ]"
   ]
  },
  {
   "cell_type": "code",
   "execution_count": null,
   "metadata": {},
   "outputs": [],
   "source": [
    "eta = 0\n",
    "omega = 1.65\n",
    "\n",
    "clusters_eta_0 = Parallel(n_jobs=-2)(\n",
    "    delayed(run_simulation_and_measure)(eta, omega) for _ in range(num_simulations)\n",
    ")\n",
    "\n",
    "clusters_eta_0 = np.array(clusters_eta_0)\n",
    "\n",
    "print(\n",
    "    f\"The average perimeter size for cluster size {growth_iterations} and η = {eta} is {np.mean([cluster[0] for cluster in clusters_eta_0])}\"\n",
    ")\n",
    "print(\n",
    "    f\"The average width for cluster size {growth_iterations} and η = {eta} is {np.mean([cluster[1] for cluster in clusters_eta_0])}\"\n",
    ")\n",
    "print(\n",
    "    f\"The average height for cluster size {growth_iterations} and η = {eta} is {np.mean([cluster[2] for cluster in clusters_eta_0])}\"\n",
    ")\n"
   ]
  },
  {
   "cell_type": "code",
   "execution_count": null,
   "metadata": {},
   "outputs": [],
   "source": [
    "eta = 1\n",
    "omega = 1.8\n",
    "\n",
    "clusters_eta_1 = Parallel(n_jobs=-2)(\n",
    "    delayed(run_simulation_and_measure)(eta, omega) for _ in range(num_simulations)\n",
    ")\n",
    "\n",
    "clusters_eta_1 = np.array(clusters_eta_1)\n",
    "\n",
    "print(\n",
    "    f\"The average perimeter size for cluster size {growth_iterations} and η = {eta} is {np.mean([cluster[0] for cluster in clusters_eta_1])}\"\n",
    ")\n",
    "print(\n",
    "    f\"The average width for cluster size {growth_iterations} and η = {eta} is {np.mean([cluster[1] for cluster in clusters_eta_1])}\"\n",
    ")\n",
    "print(\n",
    "    f\"The average height for cluster size {growth_iterations} and η = {eta} is {np.mean([cluster[2] for cluster in clusters_eta_1])}\"\n",
    ")\n"
   ]
  },
  {
   "cell_type": "code",
   "execution_count": null,
   "metadata": {},
   "outputs": [],
   "source": [
    "eta = 2\n",
    "omega = 1.85\n",
    "\n",
    "clusters_eta_2 = Parallel(n_jobs=-2)(\n",
    "    delayed(run_simulation_and_measure)(eta, omega) for _ in range(num_simulations)\n",
    ")\n",
    "\n",
    "clusters_eta_2 = np.array(clusters_eta_2)\n",
    "\n",
    "print(\n",
    "    f\"The average perimeter size for cluster size {growth_iterations} and η = {eta} is {np.mean([cluster[0] for cluster in clusters_eta_2])}\"\n",
    ")\n",
    "print(\n",
    "    f\"The average width for cluster size {growth_iterations} and η = {eta} is {np.mean([cluster[1] for cluster in clusters_eta_2])}\"\n",
    ")\n",
    "print(\n",
    "    f\"The average height for cluster size {growth_iterations} and η = {eta} is {np.mean([cluster[2] for cluster in clusters_eta_2])}\"\n",
    ")\n"
   ]
  },
  {
   "cell_type": "markdown",
   "metadata": {},
   "source": [
    "-------\n",
    "# Chemical Reaction Diffusion"
   ]
  },
  {
   "cell_type": "code",
   "execution_count": null,
   "metadata": {},
   "outputs": [],
   "source": [
    "from modules.gray_scott import create_gif, simulate_gray_scott"
   ]
  },
  {
   "cell_type": "code",
   "execution_count": null,
   "metadata": {},
   "outputs": [],
   "source": [
    "N = 100\n",
    "steps = 3_000\n",
    "\n",
    "Du = 0.16\n",
    "Dv = 0.08\n",
    "F = 0.035\n",
    "k = 0.06\n",
    "dx = 1\n",
    "dt = 1"
   ]
  },
  {
   "cell_type": "code",
   "execution_count": null,
   "metadata": {},
   "outputs": [],
   "source": [
    "simulate_gray_scott(\n",
    "    N,\n",
    "    Du,\n",
    "    Dv,\n",
    "    F,\n",
    "    k,\n",
    "    dx,\n",
    "    dt,\n",
    "    steps,\n",
    "    chemical=\"v\",\n",
    "    boundary=\"neumann\",\n",
    "    info=True,\n",
    "    noise_u=True,\n",
    "    noise_v=False,\n",
    ")\n",
    "create_gif(\"results\", \"results/gray_scott1.gif\")\n",
    "HTML('<img src=\"results/gray_scott1.gif\">')"
   ]
  },
  {
   "cell_type": "code",
   "execution_count": null,
   "metadata": {},
   "outputs": [],
   "source": [
    "simulate_gray_scott(\n",
    "    N,\n",
    "    Du,\n",
    "    Dv,\n",
    "    F,\n",
    "    k,\n",
    "    dx,\n",
    "    dt,\n",
    "    steps,\n",
    "    chemical=\"v\",\n",
    "    boundary=\"neumann\",\n",
    "    info=True,\n",
    ")\n",
    "create_gif(\"results\", \"results/gray_scott2.gif\")\n",
    "HTML('<img src=\"results/gray_scott2.gif\">')"
   ]
  },
  {
   "cell_type": "code",
   "execution_count": null,
   "metadata": {},
   "outputs": [],
   "source": [
    "Du = 0.02\n",
    "Dv = 0.01\n",
    "F = 0.034\n",
    "k = 0.095\n",
    "dx = 0.1\n",
    "dt = 0.1\n",
    "\n",
    "simulate_gray_scott(\n",
    "    N, Du, Dv, F, k, dx, dt, steps, chemical=\"u\", boundary=\"neumann\", info=True\n",
    ")\n",
    "create_gif(\"results\", \"results/gray_scott3.gif\")\n",
    "HTML('<img src=\"results/gray_scott3.gif\">')"
   ]
  },
  {
   "cell_type": "code",
   "execution_count": null,
   "metadata": {},
   "outputs": [],
   "source": [
    "Du = 0.01\n",
    "Dv = 0.005\n",
    "F = 0.04\n",
    "k = 0.06\n",
    "dx = 1\n",
    "dt = 0.1\n",
    "\n",
    "simulate_gray_scott(\n",
    "    N, Du, Dv, F, k, dx, dt, steps, chemical=\"u\", boundary=\"neumann\", info=True\n",
    ")\n",
    "create_gif(\"results\", \"results/gray_scott4.gif\")\n",
    "HTML('<img src=\"results/gray_scott4.gif\">')"
   ]
  },
  {
   "cell_type": "code",
   "execution_count": null,
   "metadata": {},
   "outputs": [],
   "source": []
  }
 ],
 "metadata": {
  "kernelspec": {
   "display_name": "scicomp",
   "language": "python",
   "name": "python3"
  },
  "language_info": {
   "codemirror_mode": {
    "name": "ipython",
    "version": 3
   },
   "file_extension": ".py",
   "mimetype": "text/x-python",
   "name": "python",
   "nbconvert_exporter": "python",
   "pygments_lexer": "ipython3",
   "version": "3.12.8"
  }
 },
 "nbformat": 4,
 "nbformat_minor": 2
}
