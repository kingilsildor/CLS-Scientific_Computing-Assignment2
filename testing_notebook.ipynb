{
 "cells": [
  {
   "cell_type": "code",
   "execution_count": null,
   "metadata": {},
   "outputs": [],
   "source": [
    "from modules.DLA_model import Diffusion\n",
    "\n",
    "from modules.dla_testing import run_dla_simulation, animate_diffusion"
   ]
  },
  {
   "cell_type": "code",
   "execution_count": null,
   "metadata": {},
   "outputs": [],
   "source": [
    "grid_size = 100\n",
    "diff = Diffusion(grid_size, 1.6)\n",
    "\n",
    "eta = 1.6\n",
    "num_iterations = 200\n",
    "\n",
    "results, clusters = run_dla_simulation(diff, eta, num_iterations)\n",
    "\n",
    "animate_diffusion(results, clusters, save_animation=True, animation_name='dla_100_500_1.mp4')"
   ]
  },
  {
   "cell_type": "code",
   "execution_count": null,
   "metadata": {},
   "outputs": [],
   "source": [
    "grid_size = 100\n",
    "diff = Diffusion(grid_size, 1.6)\n",
    "\n",
    "eta = 1.6\n",
    "num_iterations = 200\n",
    "\n",
    "results, clusters = run_dla_simulation(diff, eta, num_iterations)\n",
    "\n",
    "animate_diffusion(results, clusters, save_animation=True, animation_name='dla_100_500_1.mp4')"
   ]
  },
  {
   "cell_type": "code",
   "execution_count": null,
   "metadata": {},
   "outputs": [],
   "source": [
    "import numpy as np\n",
    "concentrations = np.linspace(0,1,100000)"
   ]
  },
  {
   "cell_type": "code",
   "execution_count": null,
   "metadata": {},
   "outputs": [],
   "source": [
    "eta = 2\n",
    "concentrations_eta = concentrations ** eta"
   ]
  },
  {
   "cell_type": "code",
   "execution_count": null,
   "metadata": {},
   "outputs": [],
   "source": [
    "eta = 2\n",
    "\n",
    "boundary_concentration = [0.5 ** eta for _ in range(10000)]"
   ]
  },
  {
   "cell_type": "code",
   "execution_count": null,
   "metadata": {},
   "outputs": [],
   "source": [
    "import time\n",
    "\n",
    "start_time_full_loop = time.time()\n",
    "boundary_concentration = [0.01238940202 ** eta for _ in range(10000)]\n",
    "print(\"--- %s seconds add boundary ---\" % (time.time() - start_time_full_loop))"
   ]
  },
  {
   "cell_type": "code",
   "execution_count": null,
   "metadata": {},
   "outputs": [],
   "source": [
    "start_time_full_loop = time.time()\n",
    "boundary_concentration = np.pow([0.01238940202 for _ in range(100000)], eta)\n",
    "print(\"--- %s seconds add boundary ---\" % (time.time() - start_time_full_loop))"
   ]
  },
  {
   "cell_type": "code",
   "execution_count": 3,
   "metadata": {},
   "outputs": [],
   "source": [
    "from modules.DLA_model import Diffusion\n",
    "import numpy as np\n",
    "\n",
    "def compare_omega(eta=1):\n",
    "    grid_size = 100\n",
    "    num_iterations = 30\n",
    "\n",
    "    omegas = [1.0, 1.4]\n",
    "    results = np.zeros(len(omegas))\n",
    "    for i, omega in enumerate(omegas):\n",
    "        print(f'Running simulation for omega = {omega}')\n",
    "        for j in range(10):\n",
    "            print(f'Running simulation {j + 1} out of 10')\n",
    "            diffusion = Diffusion(grid_size, eta, initial_point=\"bottom\")\n",
    "\n",
    "            results[i] += diffusion.run_simulation(num_iterations, omega)\n",
    "\n",
    "    results /= 10\n",
    "\n",
    "    return results"
   ]
  },
  {
   "cell_type": "code",
   "execution_count": 4,
   "metadata": {},
   "outputs": [
    {
     "name": "stdout",
     "output_type": "stream",
     "text": [
      "Running simulation for omega = 1.0\n",
      "Running simulation 1 out of 10\n",
      "Running simulation 2 out of 10\n",
      "Running simulation 3 out of 10\n",
      "Running simulation 4 out of 10\n",
      "Running simulation 5 out of 10\n",
      "Running simulation 6 out of 10\n",
      "Running simulation 7 out of 10\n",
      "Running simulation 8 out of 10\n",
      "Running simulation 9 out of 10\n",
      "Running simulation 10 out of 10\n",
      "Running simulation for omega = 1.4\n",
      "Running simulation 1 out of 10\n",
      "Running simulation 2 out of 10\n",
      "Running simulation 3 out of 10\n",
      "Running simulation 4 out of 10\n",
      "Running simulation 5 out of 10\n",
      "Running simulation 6 out of 10\n",
      "Running simulation 7 out of 10\n",
      "Running simulation 8 out of 10\n",
      "Running simulation 9 out of 10\n",
      "Running simulation 10 out of 10\n"
     ]
    }
   ],
   "source": [
    "results = compare_omega(eta=1)"
   ]
  },
  {
   "cell_type": "code",
   "execution_count": 5,
   "metadata": {},
   "outputs": [
    {
     "name": "stdout",
     "output_type": "stream",
     "text": [
      "[2714.5 2206.3]\n"
     ]
    }
   ],
   "source": [
    "print(results)"
   ]
  },
  {
   "cell_type": "code",
   "execution_count": 6,
   "metadata": {},
   "outputs": [],
   "source": [
    "from modules.DLA_model import Diffusion\n",
    "import numpy as np\n",
    "\n",
    "def compare_omega(eta=1):\n",
    "    grid_size = 100\n",
    "    num_iterations = 30\n",
    "\n",
    "    omegas = [1.0, 1.4]\n",
    "    results = np.zeros((len(omegas), 10))\n",
    "    for i, omega in enumerate(omegas):\n",
    "        print(f'Running simulation for omega = {omega}')\n",
    "        for j in range(10):\n",
    "            print(f'Running simulation {j + 1} out of 10')\n",
    "            diffusion = Diffusion(grid_size, eta, initial_point=\"bottom\")\n",
    "\n",
    "            results[i][j] = diffusion.run_simulation(num_iterations, omega)\n",
    "\n",
    "    return results"
   ]
  },
  {
   "cell_type": "code",
   "execution_count": 7,
   "metadata": {},
   "outputs": [
    {
     "name": "stdout",
     "output_type": "stream",
     "text": [
      "Running simulation for omega = 1.0\n",
      "Running simulation 1 out of 10\n",
      "Running simulation 2 out of 10\n",
      "Running simulation 3 out of 10\n",
      "Running simulation 4 out of 10\n",
      "Running simulation 5 out of 10\n",
      "Running simulation 6 out of 10\n",
      "Running simulation 7 out of 10\n",
      "Running simulation 8 out of 10\n",
      "Running simulation 9 out of 10\n",
      "Running simulation 10 out of 10\n",
      "Running simulation for omega = 1.4\n",
      "Running simulation 1 out of 10\n",
      "Running simulation 2 out of 10\n",
      "Running simulation 3 out of 10\n",
      "Running simulation 4 out of 10\n",
      "Running simulation 5 out of 10\n",
      "Running simulation 6 out of 10\n",
      "Running simulation 7 out of 10\n",
      "Running simulation 8 out of 10\n",
      "Running simulation 9 out of 10\n",
      "Running simulation 10 out of 10\n"
     ]
    }
   ],
   "source": [
    "results = compare_omega(eta=1)"
   ]
  },
  {
   "cell_type": "code",
   "execution_count": null,
   "metadata": {},
   "outputs": [
    {
     "name": "stdout",
     "output_type": "stream",
     "text": [
      "[[2217. 3268. 2041. 2666. 2549. 3004. 2216. 2933. 4195. 3582.]\n",
      " [2750. 2154. 1588. 1543. 2110. 2989. 1784. 2198. 1905. 2573.]]\n"
     ]
    }
   ],
   "source": [
    "print(results)\n",
    "\n",
    "# [[2217. 3268. 2041. 2666. 2549. 3004. 2216. 2933. 4195. 3582.]\n",
    "#  [2750. 2154. 1588. 1543. 2110. 2989. 1784. 2198. 1905. 2573.]]\n"
   ]
  },
  {
   "cell_type": "code",
   "execution_count": 9,
   "metadata": {},
   "outputs": [
    {
     "name": "stdout",
     "output_type": "stream",
     "text": [
      "2867.1\n",
      "2159.4\n"
     ]
    }
   ],
   "source": [
    "print(sum(results[0]) / 10)\n",
    "print(sum(results[1]) / 10)"
   ]
  },
  {
   "cell_type": "code",
   "execution_count": 13,
   "metadata": {},
   "outputs": [
    {
     "data": {
      "image/png": "[encoded data removed]",
      "text/plain": [
       "<Figure size 640x480 with 1 Axes>"
      ]
     },
     "metadata": {},
     "output_type": "display_data"
    }
   ],
   "source": [
    "import matplotlib.pyplot as plt\n",
    "\n",
    "results_2 = [[1834, 1713, 1717, 1743, 1612, 1650, 1496, 1937, 1633, 1571],[2840, 2495, 2861, 2785, 2803, 2713, 2671, 3034, 2765, 2650]]\n",
    "\n",
    "plt.scatter([1.0 for _ in range(10)], results[0])\n",
    "plt.scatter([1.4 for _ in range(10)], results[1])\n",
    "plt.scatter([1.8 for _ in range(10)], results_2[0])\n",
    "plt.scatter([1.9 for _ in range(10)], results_2[1])\n",
    "\n",
    "plt.show()"
   ]
  },
  {
   "cell_type": "code",
   "execution_count": 17,
   "metadata": {},
   "outputs": [
    {
     "name": "stdout",
     "output_type": "stream",
     "text": [
      "Running simulation 2 out of 20\n",
      "Running simulation for omega = 1.0\n",
      "Running simulation 4 out of 20\n",
      "Running simulation for omega = 1.0\n",
      "Running simulation 6 out of 20\n",
      "Running simulation for omega = 1.0\n",
      "Running simulation 3 out of 20\n",
      "Running simulation for omega = 1.0\n",
      "Running simulation 1 out of 20\n",
      "Running simulation for omega = 1.0\n",
      "Running simulation 5 out of 20\n",
      "Running simulation for omega = 1.0\n",
      "Running simulation 7 out of 20\n",
      "Running simulation for omega = 1.0\n",
      "Running simulation for omega = 1.4\n",
      "Running simulation for omega = 1.4\n",
      "Running simulation for omega = 1.4\n",
      "Running simulation for omega = 1.4\n",
      "Running simulation for omega = 1.4\n",
      "Running simulation for omega = 1.4\n",
      "Running simulation for omega = 1.4\n",
      "Running simulation for omega = 1.8\n",
      "Running simulation for omega = 1.8\n",
      "Running simulation for omega = 1.8\n",
      "Running simulation for omega = 1.8\n",
      "Running simulation for omega = 1.8\n",
      "Running simulation for omega = 1.8\n",
      "Running simulation for omega = 1.8\n",
      "Running simulation for omega = 1.9\n",
      "Running simulation for omega = 1.9\n",
      "Running simulation for omega = 1.9\n",
      "Running simulation for omega = 1.9\n",
      "Running simulation for omega = 1.9\n",
      "Running simulation for omega = 1.9\n",
      "Running simulation for omega = 1.9\n",
      "Running simulation 8 out of 20\n",
      "Running simulation for omega = 1.0\n",
      "Running simulation 9 out of 20\n",
      "Running simulation for omega = 1.0\n",
      "Running simulation 10 out of 20\n",
      "Running simulation for omega = 1.0\n",
      "Running simulation 11 out of 20\n",
      "Running simulation for omega = 1.0\n",
      "Running simulation 12 out of 20\n",
      "Running simulation for omega = 1.0\n",
      "Running simulation 13 out of 20\n",
      "Running simulation for omega = 1.0\n",
      "Running simulation 14 out of 20\n",
      "Running simulation for omega = 1.0\n",
      "Running simulation for omega = 1.4\n",
      "Running simulation for omega = 1.4\n",
      "Running simulation for omega = 1.4\n",
      "Running simulation for omega = 1.4\n",
      "Running simulation for omega = 1.4\n",
      "Running simulation for omega = 1.4\n",
      "Running simulation for omega = 1.4\n",
      "Running simulation for omega = 1.8\n",
      "Running simulation for omega = 1.8\n",
      "Running simulation for omega = 1.8\n",
      "Running simulation for omega = 1.9\n",
      "Running simulation for omega = 1.9\n",
      "Running simulation for omega = 1.8\n",
      "Running simulation for omega = 1.8\n",
      "Running simulation for omega = 1.8\n",
      "Running simulation for omega = 1.8\n",
      "Running simulation for omega = 1.9\n",
      "Running simulation for omega = 1.9\n",
      "Running simulation for omega = 1.9\n",
      "Running simulation for omega = 1.9\n",
      "Running simulation 15 out of 20\n",
      "Running simulation for omega = 1.0\n",
      "Running simulation 16 out of 20\n",
      "Running simulation for omega = 1.0\n",
      "Running simulation for omega = 1.9\n",
      "Running simulation 17 out of 20\n",
      "Running simulation for omega = 1.0\n",
      "Running simulation 18 out of 20\n",
      "Running simulation for omega = 1.0\n",
      "Running simulation 19 out of 20\n",
      "Running simulation for omega = 1.0\n",
      "Running simulation 20 out of 20\n",
      "Running simulation for omega = 1.0\n",
      "Running simulation for omega = 1.4\n",
      "Running simulation for omega = 1.4\n",
      "Running simulation for omega = 1.4\n",
      "Running simulation for omega = 1.4\n",
      "Running simulation for omega = 1.4\n",
      "Running simulation for omega = 1.4\n",
      "Running simulation for omega = 1.8\n",
      "Running simulation for omega = 1.8\n",
      "Running simulation for omega = 1.8\n",
      "Running simulation for omega = 1.8\n",
      "Running simulation for omega = 1.9\n",
      "Running simulation for omega = 1.9\n",
      "Running simulation for omega = 1.8\n",
      "Running simulation for omega = 1.8\n",
      "Running simulation for omega = 1.9\n",
      "Running simulation for omega = 1.9\n",
      "Running simulation for omega = 1.9\n",
      "Running simulation for omega = 1.9\n",
      "--- 1859.8582878112793 seconds ---\n",
      "[array([5348., 3968., 2928., 4522.]), array([4363., 3000., 3306., 4331.]), array([4543., 4054., 2885., 4653.]), array([4631., 3674., 2941., 4702.]), array([5801., 4547., 3072., 4940.]), array([5471., 5004., 3299., 4519.]), array([4099., 4856., 3435., 4404.]), array([3808., 4376., 3165., 4621.]), array([4161., 3455., 2895., 4648.]), array([6118., 3799., 2934., 4566.]), array([4419., 4578., 3097., 4902.]), array([4466., 4920., 2498., 4721.]), array([4905., 4965., 3625., 4650.]), array([4677., 3321., 3397., 4798.]), array([5650., 3969., 3242., 4917.]), array([5400., 4180., 3091., 4839.]), array([5472., 3394., 3118., 4605.]), array([4705., 4266., 3458., 4502.]), array([5298., 4332., 2851., 4788.]), array([4243., 4777., 3070., 4624.])]\n"
     ]
    }
   ],
   "source": [
    "import time\n",
    "from modules.DLA_model import Diffusion\n",
    "import numpy as np\n",
    "from joblib import Parallel, delayed\n",
    "\n",
    "def compare_omega(i):\n",
    "    print(f'Running simulation {i + 1} out of 20')\n",
    "    eta = 1\n",
    "    grid_size = 100\n",
    "    num_iterations = 50\n",
    "\n",
    "    omegas = [1.0, 1.4, 1.8, 1.9]\n",
    "    results = np.zeros(len(omegas))\n",
    "    for j, omega in enumerate(omegas):\n",
    "        print(f'Running simulation for omega = {omega}')\n",
    "        diffusion = Diffusion(grid_size, eta, initial_point=\"bottom\")\n",
    "\n",
    "        results[j] = diffusion.run_simulation(num_iterations, omega)\n",
    "\n",
    "    return results\n",
    "\n",
    "start_time = time.time()\n",
    "results = Parallel(n_jobs=-2)(delayed(compare_omega)(i) for i in range(20))\n",
    "print(\"--- %s seconds ---\" % (time.time() - start_time))\n",
    "\n",
    "print(results)"
   ]
  },
  {
   "cell_type": "code",
   "execution_count": null,
   "metadata": {},
   "outputs": [
    {
     "name": "stdout",
     "output_type": "stream",
     "text": [
      "Running simulation 1 out of 20Running simulation 2 out of 20\n",
      "\n",
      "Running simulation for omega = 1.8Running simulation for omega = 1.8Running simulation 3 out of 20\n",
      "\n",
      "\n",
      "Running simulation for omega = 1.8\n",
      "Running simulation for omega = 1.9\n",
      "Running simulation for omega = 1.9\n",
      "Running simulation for omega = 1.9\n"
     ]
    },
    {
     "ename": "NameError",
     "evalue": "name 'start_time_full_loop' is not defined",
     "output_type": "error",
     "traceback": [
      "\u001b[0;31m---------------------------------------------------------------------------\u001b[0m",
      "\u001b[0;31mNameError\u001b[0m                                 Traceback (most recent call last)",
      "Cell \u001b[0;32mIn[14], line 26\u001b[0m\n\u001b[1;32m     23\u001b[0m start_time \u001b[38;5;241m=\u001b[39m time\u001b[38;5;241m.\u001b[39mtime()\n\u001b[1;32m     24\u001b[0m results \u001b[38;5;241m=\u001b[39m Parallel(n_jobs\u001b[38;5;241m=\u001b[39m\u001b[38;5;241m-\u001b[39m\u001b[38;5;241m2\u001b[39m)(delayed(compare_omega)(i) \u001b[38;5;28;01mfor\u001b[39;00m i \u001b[38;5;129;01min\u001b[39;00m \u001b[38;5;28mrange\u001b[39m(\u001b[38;5;241m3\u001b[39m))\n\u001b[0;32m---> 26\u001b[0m \u001b[38;5;28mprint\u001b[39m(\u001b[38;5;124m\"\u001b[39m\u001b[38;5;124m--- \u001b[39m\u001b[38;5;132;01m%s\u001b[39;00m\u001b[38;5;124m seconds ---\u001b[39m\u001b[38;5;124m\"\u001b[39m \u001b[38;5;241m%\u001b[39m (time\u001b[38;5;241m.\u001b[39mtime() \u001b[38;5;241m-\u001b[39m start_time_full_loop))\n\u001b[1;32m     28\u001b[0m \u001b[38;5;28mprint\u001b[39m(results)\n",
      "\u001b[0;31mNameError\u001b[0m: name 'start_time_full_loop' is not defined"
     ]
    }
   ],
   "source": [
    "import time\n",
    "from modules.DLA_model import Diffusion\n",
    "import numpy as np\n",
    "from joblib import Parallel, delayed\n",
    "\n",
    "def compare_omega(i):\n",
    "    print(f'Running simulation {i + 1} out of 20')\n",
    "    eta = 1\n",
    "    grid_size = 50\n",
    "    num_iterations = 10\n",
    "\n",
    "    omegas = [1.8, 1.9]\n",
    "    results = np.zeros(len(omegas))\n",
    "    for j, omega in enumerate(omegas):\n",
    "        print(f'Running simulation for omega = {omega}')\n",
    "        diffusion = Diffusion(grid_size, eta, initial_point=\"bottom\")\n",
    "\n",
    "        results[j] = diffusion.run_simulation(num_iterations, omega)\n",
    "\n",
    "    return results\n",
    "    \n",
    "\n",
    "start_time = time.time()\n",
    "results = Parallel(n_jobs=-2)(delayed(compare_omega)(i) for i in range(3))\n",
    "\n",
    "print(\"--- %s seconds ---\" % (time.time() - start_time))\n",
    "\n",
    "print(results)"
   ]
  },
  {
   "cell_type": "code",
   "execution_count": 21,
   "metadata": {},
   "outputs": [
    {
     "name": "stderr",
     "output_type": "stream",
     "text": [
      "/var/folders/k1/f26647s95vl9yq8gf54lz3gw0000gn/T/ipykernel_55026/3632646909.py:7: MatplotlibDeprecationWarning: The 'labels' parameter of boxplot() has been renamed 'tick_labels' since Matplotlib 3.9; support for the old name will be dropped in 3.11.\n",
      "  plt.boxplot(np_results, labels=omegas)\n"
     ]
    },
    {
     "data": {
      "image/png": "[encoded data removed]",
      "text/plain": [
       "<Figure size 800x500 with 1 Axes>"
      ]
     },
     "metadata": {},
     "output_type": "display_data"
    },
    {
     "data": {
      "text/plain": [
       "<Figure size 640x480 with 0 Axes>"
      ]
     },
     "metadata": {},
     "output_type": "display_data"
    }
   ],
   "source": [
    "import matplotlib.pyplot as plt\n",
    "\n",
    "np_results = np.array(results)\n",
    "\n",
    "omegas = [1.0, 1.4, 1.8, 1.9]\n",
    "plt.figure(figsize=(8, 5))\n",
    "plt.boxplot(np_results, labels=omegas)\n",
    "plt.xlabel(r'$\\omega$')\n",
    "plt.ylabel('# SOR Iterations')\n",
    "plt.title(r'# iterations needed in SOR vs $\\omega$ for 100x100 grid, 50 grow steps, $\\eta = 1$')\n",
    "plt.grid(True)\n",
    "plt.show()\n",
    "plt.savefig(\"omega_vs_sor_eta_1.png\", dpi=300, bbox_inches='tight')"
   ]
  },
  {
   "cell_type": "code",
   "execution_count": 23,
   "metadata": {},
   "outputs": [
    {
     "data": {
      "image/png": "[encoded data removed]",
      "text/plain": [
       "<Figure size 800x500 with 1 Axes>"
      ]
     },
     "metadata": {},
     "output_type": "display_data"
    },
    {
     "data": {
      "text/plain": [
       "<Figure size 640x480 with 0 Axes>"
      ]
     },
     "metadata": {},
     "output_type": "display_data"
    }
   ],
   "source": [
    "means = np.mean(np_results, axis=0)\n",
    "stds = np.std(np_results, axis=0)\n",
    "\n",
    "plt.figure(figsize=(8, 5))\n",
    "plt.errorbar(omegas, means, yerr=stds, fmt='o-', capsize=5, label='Mean ± Std Dev')\n",
    "plt.xlabel(r'$\\omega$')\n",
    "plt.ylabel('# SOR Iterations')\n",
    "plt.title(r'# iterations needed in SOR vs $\\omega$ for 100x100 grid, 50 grow steps, $\\eta = 1$')\n",
    "plt.legend()\n",
    "plt.grid(True)\n",
    "plt.show()\n",
    "plt.savefig(\"omega_vs_sor_eta_1_mean.png\", dpi=300, bbox_inches='tight')"
   ]
  },
  {
   "cell_type": "code",
   "execution_count": null,
   "metadata": {},
   "outputs": [
    {
     "name": "stdout",
     "output_type": "stream",
     "text": [
      "Running simulation 5 out of 20\n",
      "Running simulation for omega = 1.75\n",
      "Running simulation 6 out of 20\n",
      "Running simulation for omega = 1.75\n",
      "Running simulation 4 out of 20\n",
      "Running simulation for omega = 1.75\n",
      "Running simulation 1 out of 20\n",
      "Running simulation for omega = 1.75\n",
      "Running simulation 2 out of 20\n",
      "Running simulation for omega = 1.75\n",
      "Running simulation 3 out of 20\n",
      "Running simulation for omega = 1.75\n",
      "Running simulation 7 out of 20\n",
      "Running simulation for omega = 1.75\n",
      "Running simulation for omega = 1.8\n",
      "Running simulation for omega = 1.8\n",
      "Running simulation for omega = 1.8\n",
      "Running simulation for omega = 1.8\n",
      "Running simulation for omega = 1.8\n",
      "Running simulation for omega = 1.8\n",
      "Running simulation for omega = 1.8\n",
      "Running simulation for omega = 1.85\n",
      "Running simulation for omega = 1.85\n",
      "Running simulation for omega = 1.85\n",
      "Running simulation for omega = 1.85\n",
      "Running simulation for omega = 1.85\n",
      "Running simulation for omega = 1.85\n",
      "Running simulation for omega = 1.85\n",
      "Running simulation 8 out of 20\n",
      "Running simulation for omega = 1.75\n",
      "Running simulation 9 out of 20\n",
      "Running simulation for omega = 1.75\n",
      "Running simulation 10 out of 20\n",
      "Running simulation for omega = 1.75\n",
      "Running simulation for omega = 1.8\n",
      "Running simulation for omega = 1.8\n",
      "Running simulation for omega = 1.8\n",
      "Running simulation for omega = 1.85\n",
      "Running simulation for omega = 1.85\n",
      "Running simulation for omega = 1.85\n",
      "--- 536.6159281730652 seconds ---\n"
     ]
    }
   ],
   "source": [
    "def compare_omega(i):\n",
    "    print(f'Running simulation {i + 1} out of 20')\n",
    "    eta = 1\n",
    "    grid_size = 100\n",
    "    num_iterations = 50\n",
    "\n",
    "    omegas = [1.75, 1.8, 1.85]\n",
    "    results = np.zeros(len(omegas))\n",
    "    for j, omega in enumerate(omegas):\n",
    "        print(f'Running simulation for omega = {omega}')\n",
    "        diffusion = Diffusion(grid_size, eta, initial_point=\"bottom\")\n",
    "\n",
    "        results[j] = diffusion.run_simulation(num_iterations, omega)\n",
    "\n",
    "    return results\n",
    "\n",
    "start_time = time.time()\n",
    "results_closer_omegas = Parallel(n_jobs=-2)(delayed(compare_omega)(i) for i in range(10))\n",
    "print(\"--- %s seconds ---\" % (time.time() - start_time))"
   ]
  },
  {
   "cell_type": "code",
   "execution_count": 25,
   "metadata": {},
   "outputs": [
    {
     "name": "stderr",
     "output_type": "stream",
     "text": [
      "/var/folders/k1/f26647s95vl9yq8gf54lz3gw0000gn/T/ipykernel_55026/290455856.py:5: MatplotlibDeprecationWarning: The 'labels' parameter of boxplot() has been renamed 'tick_labels' since Matplotlib 3.9; support for the old name will be dropped in 3.11.\n",
      "  plt.boxplot(np_results_closer_omegas, labels=omegas)\n"
     ]
    },
    {
     "data": {
      "image/png": "[encoded data removed]",
      "text/plain": [
       "<Figure size 800x500 with 1 Axes>"
      ]
     },
     "metadata": {},
     "output_type": "display_data"
    }
   ],
   "source": [
    "np_results_closer_omegas = np.array(results_closer_omegas)\n",
    "\n",
    "omegas = [1.75, 1.8, 1.85]\n",
    "plt.figure(figsize=(8, 5))\n",
    "plt.boxplot(np_results_closer_omegas, labels=omegas)\n",
    "plt.xlabel(r'$\\omega$')\n",
    "plt.ylabel('# SOR Iterations')\n",
    "plt.title(r'# iterations needed in SOR vs $\\omega$ for 100x100 grid, 50 grow steps, $\\eta = 1$')\n",
    "plt.grid(True)\n",
    "plt.show()\n",
    "# plt.savefig(\"omega_vs_sor_eta_1.png\", dpi=300, bbox_inches='tight')"
   ]
  },
  {
   "cell_type": "code",
   "execution_count": 26,
   "metadata": {},
   "outputs": [
    {
     "name": "stdout",
     "output_type": "stream",
     "text": [
      "Running simulation 1 out of 20\n",
      "Running simulation for omega = 1.0\n",
      "Running simulation 2 out of 20\n",
      "Running simulation for omega = 1.0\n",
      "Running simulation 3 out of 20\n",
      "Running simulation for omega = 1.0\n",
      "Running simulation 5 out of 20\n",
      "Running simulation for omega = 1.0\n",
      "Running simulation 4 out of 20\n",
      "Running simulation for omega = 1.0\n",
      "Running simulation 6 out of 20\n",
      "Running simulation for omega = 1.0\n",
      "Running simulation 7 out of 20\n",
      "Running simulation for omega = 1.0\n",
      "Running simulation for omega = 1.4\n",
      "Running simulation for omega = 1.4\n",
      "Running simulation for omega = 1.4\n",
      "Running simulation for omega = 1.4\n",
      "Running simulation for omega = 1.4\n",
      "Running simulation for omega = 1.4\n",
      "Running simulation for omega = 1.4\n",
      "Running simulation for omega = 1.8\n",
      "Running simulation for omega = 1.8\n",
      "Running simulation for omega = 1.8\n",
      "Running simulation for omega = 1.8\n",
      "Running simulation for omega = 1.8\n",
      "Running simulation for omega = 1.8\n",
      "Running simulation for omega = 1.8\n",
      "Running simulation for omega = 1.9\n",
      "Running simulation for omega = 1.9\n",
      "Running simulation for omega = 1.9\n",
      "Running simulation for omega = 1.9\n",
      "Running simulation for omega = 1.9\n",
      "Running simulation for omega = 1.9\n",
      "Running simulation for omega = 1.9\n",
      "Running simulation 8 out of 20\n",
      "Running simulation for omega = 1.0\n",
      "Running simulation 9 out of 20\n",
      "Running simulation for omega = 1.0\n",
      "Running simulation 10 out of 20\n",
      "Running simulation for omega = 1.0\n",
      "Running simulation 11 out of 20\n",
      "Running simulation for omega = 1.0\n",
      "Running simulation 12 out of 20\n",
      "Running simulation for omega = 1.0\n",
      "Running simulation 13 out of 20\n",
      "Running simulation for omega = 1.0\n",
      "Running simulation 14 out of 20\n",
      "Running simulation for omega = 1.0\n",
      "Running simulation for omega = 1.4\n",
      "Running simulation for omega = 1.4\n",
      "Running simulation for omega = 1.4\n",
      "Running simulation for omega = 1.4\n",
      "Running simulation for omega = 1.4\n",
      "Running simulation for omega = 1.4\n",
      "Running simulation for omega = 1.4\n",
      "Running simulation for omega = 1.8\n",
      "Running simulation for omega = 1.8\n",
      "Running simulation for omega = 1.8\n",
      "Running simulation for omega = 1.8\n",
      "Running simulation for omega = 1.8\n",
      "Running simulation for omega = 1.8\n",
      "Running simulation for omega = 1.8\n",
      "Running simulation for omega = 1.9\n",
      "Running simulation for omega = 1.9\n",
      "Running simulation for omega = 1.9\n",
      "Running simulation for omega = 1.9\n",
      "Running simulation for omega = 1.9\n",
      "Running simulation for omega = 1.9\n",
      "Running simulation for omega = 1.9\n",
      "Running simulation 15 out of 20\n",
      "Running simulation for omega = 1.0\n",
      "Running simulation 16 out of 20\n",
      "Running simulation for omega = 1.0\n",
      "Running simulation 17 out of 20\n",
      "Running simulation for omega = 1.0\n",
      "Running simulation 18 out of 20\n",
      "Running simulation for omega = 1.0\n",
      "Running simulation 19 out of 20\n",
      "Running simulation for omega = 1.0\n",
      "Running simulation 20 out of 20\n",
      "Running simulation for omega = 1.0\n",
      "Running simulation for omega = 1.4\n",
      "Running simulation for omega = 1.4\n",
      "Running simulation for omega = 1.4\n",
      "Running simulation for omega = 1.4\n",
      "Running simulation for omega = 1.4\n",
      "Running simulation for omega = 1.4\n",
      "Running simulation for omega = 1.8\n",
      "Running simulation for omega = 1.8\n",
      "Running simulation for omega = 1.8\n",
      "Running simulation for omega = 1.8\n",
      "Running simulation for omega = 1.8\n",
      "Running simulation for omega = 1.9\n",
      "Running simulation for omega = 1.8\n",
      "Running simulation for omega = 1.9\n",
      "Running simulation for omega = 1.9\n",
      "Running simulation for omega = 1.9\n",
      "Running simulation for omega = 1.9\n",
      "Running simulation for omega = 1.9\n",
      "--- 734.4773099422455 seconds ---\n"
     ]
    }
   ],
   "source": [
    "def compare_omega(i):\n",
    "    print(f'Running simulation {i + 1} out of 20')\n",
    "    eta = 0\n",
    "    grid_size = 100\n",
    "    num_iterations = 50\n",
    "\n",
    "    omegas = [1.0, 1.4, 1.8, 1.9]\n",
    "    results = np.zeros(len(omegas))\n",
    "    for j, omega in enumerate(omegas):\n",
    "        print(f'Running simulation for omega = {omega}')\n",
    "        diffusion = Diffusion(grid_size, eta, initial_point=\"bottom\")\n",
    "\n",
    "        results[j] = diffusion.run_simulation(num_iterations, omega)\n",
    "\n",
    "    return results\n",
    "\n",
    "start_time = time.time()\n",
    "results_eta_0 = Parallel(n_jobs=-2)(delayed(compare_omega)(i) for i in range(20))\n",
    "print(\"--- %s seconds ---\" % (time.time() - start_time))"
   ]
  },
  {
   "cell_type": "code",
   "execution_count": null,
   "metadata": {},
   "outputs": [
    {
     "data": {
      "image/png": "[encoded data removed]",
      "text/plain": [
       "<Figure size 800x500 with 1 Axes>"
      ]
     },
     "metadata": {},
     "output_type": "display_data"
    },
    {
     "data": {
      "text/plain": [
       "<Figure size 640x480 with 0 Axes>"
      ]
     },
     "metadata": {},
     "output_type": "display_data"
    }
   ],
   "source": [
    "np_results_eta_0 = np.array(results_eta_0)\n",
    "\n",
    "omegas = [1.0, 1.4, 1.8, 1.9]\n",
    "plt.figure(figsize=(8, 5))\n",
    "plt.boxplot(np_results_eta_0, tick_labels=omegas)\n",
    "plt.xlabel(r'$\\omega$')\n",
    "plt.ylabel('# SOR Iterations')\n",
    "plt.title(r'# iterations needed in SOR vs $\\omega$ for 100x100 grid, 50 grow steps, $\\eta = 0$')\n",
    "plt.grid(True)\n",
    "plt.show()\n",
    "# plt.savefig(\"omega_vs_sor_eta_0.png\", dpi=300, bbox_inches='tight')"
   ]
  },
  {
   "cell_type": "code",
   "execution_count": 30,
   "metadata": {},
   "outputs": [
    {
     "name": "stdout",
     "output_type": "stream",
     "text": [
      "Running simulation 1 out of 20\n",
      "Running simulation for omega = 1.0\n",
      "Running simulation 2 out of 20\n",
      "Running simulation for omega = 1.0\n",
      "Running simulation 3 out of 20\n",
      "Running simulation for omega = 1.0\n",
      "Running simulation 4 out of 20\n",
      "Running simulation for omega = 1.0\n",
      "Running simulation 5 out of 20\n",
      "Running simulation for omega = 1.0\n",
      "Running simulation 6 out of 20\n",
      "Running simulation for omega = 1.0\n",
      "Running simulation 7 out of 20\n",
      "Running simulation for omega = 1.0\n",
      "Running simulation for omega = 1.4\n",
      "Running simulation for omega = 1.4\n",
      "Running simulation for omega = 1.4\n",
      "Running simulation for omega = 1.4\n",
      "Running simulation for omega = 1.4\n",
      "Running simulation for omega = 1.4\n",
      "Running simulation for omega = 1.4\n",
      "Running simulation for omega = 1.8\n",
      "Running simulation for omega = 1.8\n",
      "Running simulation for omega = 1.8\n",
      "Running simulation for omega = 1.8\n",
      "Running simulation for omega = 1.8\n",
      "Running simulation for omega = 1.8\n",
      "Running simulation for omega = 1.8\n",
      "Running simulation for omega = 1.9\n",
      "Running simulation for omega = 1.9\n",
      "Running simulation for omega = 1.9\n",
      "Running simulation for omega = 1.9\n",
      "Running simulation for omega = 1.9\n",
      "Running simulation for omega = 1.9\n",
      "Running simulation for omega = 1.9\n",
      "Running simulation 8 out of 20\n",
      "Running simulation for omega = 1.0\n",
      "Running simulation 9 out of 20\n",
      "Running simulation for omega = 1.0\n",
      "Running simulation 10 out of 20\n",
      "Running simulation for omega = 1.0\n",
      "Running simulation 11 out of 20\n",
      "Running simulation for omega = 1.0\n",
      "Running simulation 12 out of 20\n",
      "Running simulation for omega = 1.0\n",
      "Running simulation 13 out of 20\n",
      "Running simulation for omega = 1.0\n",
      "Running simulation 14 out of 20\n",
      "Running simulation for omega = 1.0\n",
      "Running simulation for omega = 1.4\n",
      "Running simulation for omega = 1.4\n",
      "Running simulation for omega = 1.4\n",
      "Running simulation for omega = 1.4\n",
      "Running simulation for omega = 1.4\n",
      "Running simulation for omega = 1.4\n",
      "Running simulation for omega = 1.4\n",
      "Running simulation for omega = 1.8\n",
      "Running simulation for omega = 1.8\n",
      "Running simulation for omega = 1.8\n",
      "Running simulation for omega = 1.8\n",
      "Running simulation for omega = 1.8\n",
      "Running simulation for omega = 1.8\n",
      "Running simulation for omega = 1.9\n",
      "Running simulation for omega = 1.8\n",
      "Running simulation for omega = 1.9\n",
      "Running simulation for omega = 1.9\n",
      "Running simulation for omega = 1.9\n",
      "Running simulation for omega = 1.9\n",
      "Running simulation for omega = 1.9\n",
      "Running simulation for omega = 1.9\n",
      "Running simulation 15 out of 20\n",
      "Running simulation for omega = 1.0\n",
      "Running simulation 16 out of 20\n",
      "Running simulation for omega = 1.0\n",
      "Running simulation 17 out of 20\n",
      "Running simulation for omega = 1.0\n",
      "Running simulation 18 out of 20\n",
      "Running simulation for omega = 1.0\n",
      "Running simulation 19 out of 20\n",
      "Running simulation for omega = 1.0\n",
      "Running simulation 20 out of 20\n",
      "Running simulation for omega = 1.0\n",
      "Running simulation for omega = 1.4\n",
      "Running simulation for omega = 1.4\n",
      "Running simulation for omega = 1.4\n",
      "Running simulation for omega = 1.4\n",
      "Running simulation for omega = 1.4\n",
      "Running simulation for omega = 1.4\n",
      "Running simulation for omega = 1.8\n",
      "Running simulation for omega = 1.8\n",
      "Running simulation for omega = 1.8\n",
      "Running simulation for omega = 1.8\n",
      "Running simulation for omega = 1.9\n",
      "Running simulation for omega = 1.8\n",
      "Running simulation for omega = 1.8\n",
      "Running simulation for omega = 1.9\n",
      "Running simulation for omega = 1.9\n",
      "Running simulation for omega = 1.9\n",
      "Running simulation for omega = 1.9\n",
      "Running simulation for omega = 1.9\n",
      "--- 2185.766594171524 seconds ---\n"
     ]
    }
   ],
   "source": [
    "def compare_omega(i):\n",
    "    print(f'Running simulation {i + 1} out of 20')\n",
    "    eta = 2\n",
    "    grid_size = 100\n",
    "    num_iterations = 50\n",
    "\n",
    "    omegas = [1.0, 1.4, 1.8, 1.9]\n",
    "    results = np.zeros(len(omegas))\n",
    "    for j, omega in enumerate(omegas):\n",
    "        print(f'Running simulation for omega = {omega}')\n",
    "        diffusion = Diffusion(grid_size, eta, initial_point=\"bottom\")\n",
    "\n",
    "        results[j] = diffusion.run_simulation(num_iterations, omega)\n",
    "\n",
    "    return results\n",
    "\n",
    "start_time = time.time()\n",
    "results_eta_2 = Parallel(n_jobs=-2)(delayed(compare_omega)(i) for i in range(20))\n",
    "print(\"--- %s seconds ---\" % (time.time() - start_time))"
   ]
  },
  {
   "cell_type": "code",
   "execution_count": null,
   "metadata": {},
   "outputs": [
    {
     "data": {
      "image/png": "[encoded data removed]",
      "text/plain": [
       "<Figure size 800x500 with 1 Axes>"
      ]
     },
     "metadata": {},
     "output_type": "display_data"
    },
    {
     "data": {
      "text/plain": [
       "<Figure size 640x480 with 0 Axes>"
      ]
     },
     "metadata": {},
     "output_type": "display_data"
    }
   ],
   "source": [
    "np_results_eta_2 = np.array(results_eta_2)\n",
    "\n",
    "omegas = [1.0, 1.4, 1.8, 1.9]\n",
    "plt.figure(figsize=(8, 5))\n",
    "plt.boxplot(np_results_eta_2, tick_labels=omegas)\n",
    "plt.xlabel(r'$\\omega$')\n",
    "plt.ylabel('# SOR Iterations')\n",
    "plt.title(r'# iterations needed in SOR vs $\\omega$ for 100x100 grid, 50 grow steps, $\\eta = 2$')\n",
    "plt.grid(True)\n",
    "plt.show()\n",
    "plt.savefig(\"omega_vs_sor_eta_2.png\", dpi=300, bbox_inches='tight')"
   ]
  },
  {
   "cell_type": "code",
   "execution_count": 1,
   "metadata": {},
   "outputs": [],
   "source": [
    "from modules.DLA_model import Diffusion, compare_omegas, plot_omega_comparison\n",
    "from joblib import Parallel, delayed"
   ]
  },
  {
   "cell_type": "code",
   "execution_count": 2,
   "metadata": {},
   "outputs": [
    {
     "name": "stdout",
     "output_type": "stream",
     "text": [
      "Figure(640x480)\n",
      "Figure(640x480)\n",
      "Figure(640x480)\n"
     ]
    }
   ],
   "source": [
    "grid_size = 10\n",
    "growth_iterations = 20\n",
    "\n",
    "def run_simulation_and_plot(eta):\n",
    "    diffusion = Diffusion(grid_size, eta, initial_point=\"bottom\")\n",
    "    diffusion.run_simulation(growth_iterations)\n",
    "    diffusion.plot(eta, save=True, filename=f\"diffusion_eta_{eta}_200_v2.png\")\n",
    "\n",
    "_ = Parallel(n_jobs=-2)(\n",
    "        delayed(run_simulation_and_plot)(eta) for eta in [0, 1, 2]\n",
    "    )"
   ]
  },
  {
   "cell_type": "code",
   "execution_count": 1,
   "metadata": {},
   "outputs": [
    {
     "name": "stdout",
     "output_type": "stream",
     "text": [
      "Figure(640x480)\n",
      "Figure(640x480)\n",
      "Figure(640x480)\n"
     ]
    }
   ],
   "source": [
    "from modules.DLA_model import Diffusion, compare_omegas, plot_omega_comparison\n",
    "from joblib import Parallel, delayed\n",
    "\n",
    "grid_size = 100\n",
    "growth_iterations = 200\n",
    "\n",
    "def run_simulation_and_plot(eta):\n",
    "    diffusion = Diffusion(grid_size, eta, initial_point=\"bottom\")\n",
    "    diffusion.run_simulation(growth_iterations)\n",
    "    diffusion.plot(eta, save=True, filename=f\"diffusion_eta_{eta}_200.png\")\n",
    "\n",
    "_ = Parallel(n_jobs=-2)(\n",
    "        delayed(run_simulation_and_plot)(eta) for eta in [0, 1, 2]\n",
    "    )"
   ]
  },
  {
   "cell_type": "markdown",
   "metadata": {},
   "source": [
    "## Analysing the cluster shape\n",
    "\n",
    "Lastly, we analyse the shape of the cluster so that we can compare it to the Monte Carlo simulation. \n",
    "\n",
    "Again, for three values of $\\eta = 0, 1, 2$ and $200$ growth steps, we run $20$ simulations each and measure the size of the perimeter and the width and height of the cluster. We then plot our results. We use the optimal $\\omega$ for each $\\eta$ found in the previous part.\n",
    "\n",
    "Disclamer: execution of each of the three following cells can take up to"
   ]
  },
  {
   "cell_type": "code",
   "execution_count": null,
   "metadata": {},
   "outputs": [],
   "source": [
    "from modules.DLA_model import Diffusion\n",
    "from joblib import Parallel, delayed\n",
    "\n",
    "grid_size = 100\n",
    "growth_iterations = 200\n",
    "num_simulations = 20\n",
    "eta = 0\n",
    "omega = 1.6\n",
    "\n",
    "def run_simulation_and_measure():\n",
    "    diffusion = Diffusion(grid_size, eta, initial_point=\"bottom\")\n",
    "    diffusion.run_simulation(growth_iterations, omega)\n",
    "\n",
    "    return [diffusion.get_perimeter_size(), diffusion.get_width(), diffusion.get_height()]\n",
    "\n",
    "clusters_eta_0 = Parallel(n_jobs=-2)(\n",
    "        delayed(run_simulation_and_measure)() for _ in range(num_simulations)\n",
    "    )"
   ]
  },
  {
   "cell_type": "code",
   "execution_count": 16,
   "metadata": {},
   "outputs": [
    {
     "name": "stdout",
     "output_type": "stream",
     "text": [
      "The average perimeter size for cluster size 20 and η = 0 is 11.2\n",
      "The average width for cluster size 20 and η = 0 is 4.9\n",
      "The average height for cluster size 20 and η = 0 is 2.3\n"
     ]
    }
   ],
   "source": [
    "import numpy as np\n",
    "\n",
    "clusters_0 = np.array(clusters_0)\n",
    "\n",
    "print(f\"The average perimeter size for cluster size {grid_size} and η = {eta} is {np.mean([cluster[0] for cluster in clusters_0])}\")\n",
    "print(f\"The average width for cluster size {grid_size} and η = {eta} is {np.mean([cluster[1] for cluster in clusters_0])}\")\n",
    "print(f\"The average height for cluster size {grid_size} and η = {eta} is {np.mean([cluster[2] for cluster in clusters_0])}\")"
   ]
  },
  {
   "cell_type": "code",
   "execution_count": null,
   "metadata": {},
   "outputs": [],
   "source": []
  }
 ],
 "metadata": {
  "kernelspec": {
   "display_name": "base",
   "language": "python",
   "name": "python3"
  },
  "language_info": {
   "codemirror_mode": {
    "name": "ipython",
    "version": 3
   },
   "file_extension": ".py",
   "mimetype": "text/x-python",
   "name": "python",
   "nbconvert_exporter": "python",
   "pygments_lexer": "ipython3",
   "version": "3.12.7"
  }
 },
 "nbformat": 4,
 "nbformat_minor": 2
}
