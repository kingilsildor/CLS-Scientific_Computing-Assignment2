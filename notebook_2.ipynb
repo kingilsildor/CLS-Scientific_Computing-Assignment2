{
 "cells": [
  {
   "cell_type": "code",
   "execution_count": 1,
   "metadata": {},
   "outputs": [],
   "source": [
    "from modules.DLA_model import Diffusion\n",
    "import numpy as np\n",
    "\n",
    "def compare_omega(eta=1):\n",
    "    grid_size = 100\n",
    "    num_iterations = 30\n",
    "\n",
    "    omegas = [1.8, 1.9]\n",
    "    results = np.zeros(len(omegas))\n",
    "    for i, omega in enumerate(omegas):\n",
    "        print(f'Running simulation for omega = {omega}')\n",
    "        for j in range(10):\n",
    "            print(f'Running simulation {j + 1} out of 10')\n",
    "            diffusion = Diffusion(grid_size, eta, initial_point=\"bottom\")\n",
    "\n",
    "            results[i] += diffusion.run_simulation(num_iterations, omega)\n",
    "\n",
    "    results /= 10\n",
    "\n",
    "    return results"
   ]
  },
  {
   "cell_type": "code",
   "execution_count": 2,
   "metadata": {},
   "outputs": [
    {
     "name": "stdout",
     "output_type": "stream",
     "text": [
      "Running simulation for omega = 1.8\n",
      "Running simulation 1 out of 10\n",
      "Running simulation 2 out of 10\n",
      "Running simulation 3 out of 10\n",
      "Running simulation 4 out of 10\n",
      "Running simulation 5 out of 10\n",
      "Running simulation 6 out of 10\n",
      "Running simulation 7 out of 10\n",
      "Running simulation 8 out of 10\n",
      "Running simulation 9 out of 10\n",
      "Running simulation 10 out of 10\n",
      "Running simulation for omega = 1.9\n",
      "Running simulation 1 out of 10\n",
      "Running simulation 2 out of 10\n",
      "Running simulation 3 out of 10\n",
      "Running simulation 4 out of 10\n",
      "Running simulation 5 out of 10\n",
      "Running simulation 6 out of 10\n",
      "Running simulation 7 out of 10\n",
      "Running simulation 8 out of 10\n",
      "Running simulation 9 out of 10\n",
      "Running simulation 10 out of 10\n"
     ]
    }
   ],
   "source": [
    "results = compare_omega(eta=1)"
   ]
  },
  {
   "cell_type": "code",
   "execution_count": 3,
   "metadata": {},
   "outputs": [
    {
     "name": "stdout",
     "output_type": "stream",
     "text": [
      "[1671.6 2708.2]\n"
     ]
    }
   ],
   "source": [
    "print(results)"
   ]
  },
  {
   "cell_type": "code",
   "execution_count": 4,
   "metadata": {},
   "outputs": [],
   "source": [
    "from modules.DLA_model import Diffusion\n",
    "import numpy as np\n",
    "\n",
    "def compare_omega(eta=1):\n",
    "    grid_size = 100\n",
    "    num_iterations = 30\n",
    "\n",
    "    omegas = [1.8, 1.9]\n",
    "    results = np.zeros((len(omegas), 10))\n",
    "    for i, omega in enumerate(omegas):\n",
    "        print(f'Running simulation for omega = {omega}')\n",
    "        for j in range(10):\n",
    "            print(f'Running simulation {j + 1} out of 10')\n",
    "            diffusion = Diffusion(grid_size, eta, initial_point=\"bottom\")\n",
    "\n",
    "            results[i][j] = diffusion.run_simulation(num_iterations, omega)\n",
    "\n",
    "    return results"
   ]
  },
  {
   "cell_type": "code",
   "execution_count": 5,
   "metadata": {},
   "outputs": [
    {
     "name": "stdout",
     "output_type": "stream",
     "text": [
      "Running simulation for omega = 1.8\n",
      "Running simulation 1 out of 10\n",
      "Running simulation 2 out of 10\n",
      "Running simulation 3 out of 10\n",
      "Running simulation 4 out of 10\n",
      "Running simulation 5 out of 10\n",
      "Running simulation 6 out of 10\n",
      "Running simulation 7 out of 10\n",
      "Running simulation 8 out of 10\n",
      "Running simulation 9 out of 10\n",
      "Running simulation 10 out of 10\n",
      "Running simulation for omega = 1.9\n",
      "Running simulation 1 out of 10\n",
      "Running simulation 2 out of 10\n",
      "Running simulation 3 out of 10\n",
      "Running simulation 4 out of 10\n",
      "Running simulation 5 out of 10\n",
      "Running simulation 6 out of 10\n",
      "Running simulation 7 out of 10\n",
      "Running simulation 8 out of 10\n",
      "Running simulation 9 out of 10\n",
      "Running simulation 10 out of 10\n"
     ]
    }
   ],
   "source": [
    "results = compare_omega(eta=1)"
   ]
  },
  {
   "cell_type": "code",
   "execution_count": 6,
   "metadata": {},
   "outputs": [
    {
     "name": "stdout",
     "output_type": "stream",
     "text": [
      "[[1834. 1713. 1717. 1743. 1612. 1650. 1496. 1937. 1633. 1571.]\n",
      " [2840. 2495. 2861. 2785. 2803. 2713. 2671. 3034. 2765. 2650.]]\n"
     ]
    }
   ],
   "source": [
    "print(results)"
   ]
  },
  {
   "cell_type": "code",
   "execution_count": 7,
   "metadata": {},
   "outputs": [
    {
     "name": "stdout",
     "output_type": "stream",
     "text": [
      "1690.6\n",
      "2761.7\n"
     ]
    }
   ],
   "source": [
    "print(sum(results[0]) / 10)\n",
    "print(sum(results[1]) / 10)"
   ]
  },
  {
   "cell_type": "code",
   "execution_count": null,
   "metadata": {},
   "outputs": [],
   "source": [
    "import matplotlib.pyplot as plt\n",
    "\n",
    "omegas = [1.0, 1.4, 1.8, 1.9]\n",
    "plt.figure(figsize=(8, 5))\n",
    "plt.boxplot(results, labels=omegas)\n",
    "plt.xlabel(r'$\\omega$')\n",
    "plt.ylabel('# SOR Iterations')\n",
    "plt.title('Number of iterations needed in SOR vs omega for 100x100 grid and 50 grow steps')\n",
    "plt.grid(True)\n",
    "plt.show()"
   ]
  },
  {
   "cell_type": "code",
   "execution_count": null,
   "metadata": {},
   "outputs": [],
   "source": [
    "import time\n",
    "from modules.DLA_model import Diffusion\n",
    "import numpy as np\n",
    "from joblib import Parallel, delayed\n",
    "\n",
    "def compare_omega(i):\n",
    "    print(f'Running simulation {i + 1} out of 20')\n",
    "    eta = 1.5\n",
    "    grid_size = 100\n",
    "    num_iterations = 50\n",
    "\n",
    "    omegas = [1.0, 1.4, 1.8, 1.9]\n",
    "    results = np.zeros(len(omegas))\n",
    "    for j, omega in enumerate(omegas):\n",
    "        print(f'Running simulation for omega = {omega}')\n",
    "        diffusion = Diffusion(grid_size, eta, initial_point=\"bottom\")\n",
    "\n",
    "        results[j] = diffusion.run_simulation(num_iterations, omega)\n",
    "\n",
    "    return results\n",
    "\n",
    "start_time = time.time()\n",
    "results = Parallel(n_jobs=-2)(delayed(compare_omega)(i) for i in range(20))\n",
    "print(\"--- %s seconds ---\" % (time.time() - start_time))\n",
    "\n",
    "print(results)"
   ]
  },
  {
   "cell_type": "code",
   "execution_count": 14,
   "metadata": {},
   "outputs": [
    {
     "data": {
      "image/png": "[encoded data removed]",
      "text/plain": [
       "<Figure size 640x480 with 2 Axes>"
      ]
     },
     "metadata": {},
     "output_type": "display_data"
    }
   ],
   "source": [
    "from modules.DLA_model import Diffusion\n",
    "\n",
    "diffusion = Diffusion(30, 0, initial_point=\"bottom\")\n",
    "diffusion.run_simulation(100, 1.8)\n",
    "diffusion.plot()"
   ]
  },
  {
   "cell_type": "code",
   "execution_count": null,
   "metadata": {},
   "outputs": [],
   "source": []
  }
 ],
 "metadata": {
  "kernelspec": {
   "display_name": "base",
   "language": "python",
   "name": "python3"
  },
  "language_info": {
   "codemirror_mode": {
    "name": "ipython",
    "version": 3
   },
   "file_extension": ".py",
   "mimetype": "text/x-python",
   "name": "python",
   "nbconvert_exporter": "python",
   "pygments_lexer": "ipython3",
   "version": "3.12.7"
  }
 },
 "nbformat": 4,
 "nbformat_minor": 2
}
